{
  "nbformat": 4,
  "nbformat_minor": 0,
  "metadata": {
    "colab": {
      "name": "알고리즘 풀이.ipynb",
      "provenance": [],
      "collapsed_sections": []
    },
    "kernelspec": {
      "display_name": "Python 3",
      "name": "python3"
    },
    "language_info": {
      "name": "python"
    }
  },
  "cells": [
    {
      "cell_type": "code",
      "metadata": {
        "colab": {
          "base_uri": "https://localhost:8080/"
        },
        "id": "Xmayi5u_gvkD",
        "outputId": "da8aa7c6-b1ea-41b4-af4e-089f84953328"
      },
      "source": [
        "print('강한친구 대한육군\\n강한친구 대한육군')"
      ],
      "execution_count": null,
      "outputs": [
        {
          "output_type": "stream",
          "text": [
            "강한친구 대한육군\n",
            "강한친구 대한육군\n"
          ],
          "name": "stdout"
        }
      ]
    },
    {
      "cell_type": "code",
      "metadata": {
        "colab": {
          "base_uri": "https://localhost:8080/"
        },
        "id": "xlOxEbCQhY_3",
        "outputId": "47c202d5-8adf-476f-fb78-594b87bf543b"
      },
      "source": [
        "print(\"\\\\    /\\\\\\n )  ( \\')\\n(  /  )\\n \\\\(__)|\")"
      ],
      "execution_count": null,
      "outputs": [
        {
          "output_type": "stream",
          "text": [
            "\\    /\\\n",
            " )  ( ')\n",
            "(  /  )\n",
            " \\(__)|\n"
          ],
          "name": "stdout"
        }
      ]
    },
    {
      "cell_type": "code",
      "metadata": {
        "colab": {
          "base_uri": "https://localhost:8080/"
        },
        "id": "-f8NbtoBi8Gp",
        "outputId": "6d563da8-be4f-4022-a7ad-53388a026c22"
      },
      "source": [
        "print(\"|\\\\_/|\\n|q p|   /}\\n( 0 )\\\"\\\"\\\"\\\\\\n|\\\"^\\\"'    |\\n||_/=\\\\\\\\__|\")"
      ],
      "execution_count": null,
      "outputs": [
        {
          "output_type": "stream",
          "text": [
            "|\\_/|\n",
            "|q p|   /}\n",
            "( 0 )\"\"\"\\\n",
            "|\"^\"'    |\n",
            "||_/=\\\\__|\n"
          ],
          "name": "stdout"
        }
      ]
    },
    {
      "cell_type": "code",
      "metadata": {
        "colab": {
          "base_uri": "https://localhost:8080/"
        },
        "id": "Tmk2uUtDk7Xz",
        "outputId": "0fd47a0d-2c11-4e5b-82e2-2041144946e2"
      },
      "source": [
        "print('|\\_/|')\n",
        "print('|q p|   /}')\n",
        "print(\"( 0 )\\\"\\\"\\\"\\\\\")\n",
        "print('|\"^\"`    |')\n",
        "print('||_/=\\\\__|')"
      ],
      "execution_count": null,
      "outputs": [
        {
          "output_type": "stream",
          "text": [
            "|\\_/|\n",
            "|q p|   /}\n",
            "( 0 )\"\"\"\\\n",
            "|\"^\"`    |\n",
            "||_/=\\__|\n"
          ],
          "name": "stdout"
        }
      ]
    },
    {
      "cell_type": "code",
      "metadata": {
        "colab": {
          "base_uri": "https://localhost:8080/"
        },
        "id": "5VuF3h9Rv1uj",
        "outputId": "9c7d60ff-f1bd-4a0a-866f-c8f59de5dfb2"
      },
      "source": [
        "#1000\n",
        "# A+B\n",
        "result = list(map(int,input().split()))\n",
        "print(sum(result))"
      ],
      "execution_count": null,
      "outputs": [
        {
          "output_type": "stream",
          "text": [
            "1 2\n",
            "3\n"
          ],
          "name": "stdout"
        }
      ]
    },
    {
      "cell_type": "code",
      "metadata": {
        "colab": {
          "base_uri": "https://localhost:8080/"
        },
        "id": "ZDNtdADnwUKl",
        "outputId": "6ce011bc-bd40-4a72-ef17-c8abd0b6f911"
      },
      "source": [
        "#1001 A-B\n",
        "a,b = map(int, input().split())\n",
        "\n",
        "print(a-b)"
      ],
      "execution_count": null,
      "outputs": [
        {
          "output_type": "stream",
          "text": [
            "3 2\n",
            "1\n"
          ],
          "name": "stdout"
        }
      ]
    },
    {
      "cell_type": "code",
      "metadata": {
        "colab": {
          "base_uri": "https://localhost:8080/"
        },
        "id": "Ksoz4zYvw0gO",
        "outputId": "cfe93d43-fae8-483d-caa8-aef836d2f5b3"
      },
      "source": [
        "#10998 A*B\n",
        "a,b = map(int, input().split())\n",
        "print(a*b)"
      ],
      "execution_count": null,
      "outputs": [
        {
          "output_type": "stream",
          "text": [
            "9 9\n",
            "81\n"
          ],
          "name": "stdout"
        }
      ]
    },
    {
      "cell_type": "code",
      "metadata": {
        "colab": {
          "base_uri": "https://localhost:8080/"
        },
        "id": "__oqeruFxFVu",
        "outputId": "c68dead2-e958-44bd-fcb3-3347710f6d07"
      },
      "source": [
        "#1008 A/B\n",
        "a,b = map(int, input().split())\n",
        "print(a/b)"
      ],
      "execution_count": null,
      "outputs": [
        {
          "output_type": "stream",
          "text": [
            "6 2\n",
            "3.0\n"
          ],
          "name": "stdout"
        }
      ]
    },
    {
      "cell_type": "code",
      "metadata": {
        "colab": {
          "base_uri": "https://localhost:8080/"
        },
        "id": "pvfZx6gtxcV1",
        "outputId": "af73a7fa-e66e-4e09-bb67-2d32d5deb955"
      },
      "source": [
        "#10869 사칙연산\n",
        "a,b = map(int, input().split())\n",
        "\n",
        "print(a+b)\n",
        "print(a-b)\n",
        "print(a*b)\n",
        "print(int(a/b))\n",
        "print(a%b)"
      ],
      "execution_count": null,
      "outputs": [
        {
          "output_type": "stream",
          "text": [
            "7 3\n",
            "10\n",
            "4\n",
            "21\n",
            "2\n",
            "1\n"
          ],
          "name": "stdout"
        }
      ]
    },
    {
      "cell_type": "code",
      "metadata": {
        "colab": {
          "base_uri": "https://localhost:8080/"
        },
        "id": "ypzuHU_RxsZV",
        "outputId": "f5f9e171-460e-4f28-8013-51488ebf7d0a"
      },
      "source": [
        "#10430 나머지\n",
        "a,b,c = map(int, input().split())\n",
        "\n",
        "print(  (a+b)%c )\n",
        "print(  ((a%c)+(b%c))%c )\n",
        "print(  (a*b)%c  )\n",
        "print(  ((a%c)*(b%c))%c  )"
      ],
      "execution_count": null,
      "outputs": [
        {
          "output_type": "stream",
          "text": [
            "5 8 4\n",
            "1\n",
            "1\n",
            "0\n",
            "0\n"
          ],
          "name": "stdout"
        }
      ]
    },
    {
      "cell_type": "code",
      "metadata": {
        "colab": {
          "base_uri": "https://localhost:8080/"
        },
        "id": "HMtXGPVwTe9V",
        "outputId": "6f995831-9ece-409b-ef18-0136571d3217"
      },
      "source": [
        "#2588 곱셈\n",
        "a = int(input())\n",
        "b = input()\n",
        "\n",
        "for i in range(2,-1,-1):\n",
        "  print(a * int(b[i]))\n",
        "print(a * int(b))"
      ],
      "execution_count": null,
      "outputs": [
        {
          "output_type": "stream",
          "text": [
            "472\n",
            "385\n",
            "2360\n",
            "3776\n",
            "1416\n",
            "181720\n"
          ],
          "name": "stdout"
        }
      ]
    },
    {
      "cell_type": "code",
      "metadata": {
        "colab": {
          "base_uri": "https://localhost:8080/"
        },
        "id": "wRdtCoslZj4v",
        "outputId": "aef4ab27-4856-4bbc-a3c0-fca0ea529e5c"
      },
      "source": [
        "#1330 두 수 비교하기\n",
        "a,b = map(int,input().split())\n",
        "\n",
        "if b < a:\n",
        "  print('<')\n",
        "elif b > a:\n",
        "  print('>')\n",
        "else:\n",
        "  print('==')"
      ],
      "execution_count": null,
      "outputs": [
        {
          "output_type": "stream",
          "text": [
            "5 5\n",
            "==\n"
          ],
          "name": "stdout"
        }
      ]
    },
    {
      "cell_type": "code",
      "metadata": {
        "colab": {
          "base_uri": "https://localhost:8080/"
        },
        "id": "VU4gK5CwabJW",
        "outputId": "f61c5d23-f568-458c-b687-fc6b67d28434"
      },
      "source": [
        "#9498번 시험 성적\n",
        "a = int(input())\n",
        "\n",
        "if a >= 90:\n",
        "  print('A')\n",
        "elif a >= 80:\n",
        "  print('B')\n",
        "elif a >= 70:\n",
        "  print('C')\n",
        "elif a >= 60:\n",
        "  print('D')\n",
        "else:\n",
        "  print('F')"
      ],
      "execution_count": null,
      "outputs": [
        {
          "output_type": "stream",
          "text": [
            "60\n",
            "D\n"
          ],
          "name": "stdout"
        }
      ]
    },
    {
      "cell_type": "code",
      "metadata": {
        "colab": {
          "base_uri": "https://localhost:8080/"
        },
        "id": "bg1sixU2bKlO",
        "outputId": "e989e535-5c60-4adf-af5a-f86a48d44889"
      },
      "source": [
        "#2753 윤년\n",
        "a = int(input())\n",
        "\n",
        "if a%400 == 0:\n",
        "  print(1)\n",
        "elif (a%4==0) & (a%100 != 0):\n",
        "  print(1)\n",
        "else:\n",
        "  print(0)"
      ],
      "execution_count": null,
      "outputs": [
        {
          "output_type": "stream",
          "text": [
            "1999\n",
            "0\n"
          ],
          "name": "stdout"
        }
      ]
    },
    {
      "cell_type": "code",
      "metadata": {
        "colab": {
          "base_uri": "https://localhost:8080/"
        },
        "id": "yAjAMds2b3n4",
        "outputId": "6c9d4da2-94a1-413e-bc45-fa863504603c"
      },
      "source": [
        "#14681 사분면 고르기\n",
        "a = int(input())\n",
        "b = int(input())\n",
        "\n",
        "if (a>0) & (b>0):\n",
        "  print(1)\n",
        "elif (a < 0) & (b > 0):\n",
        "  print(2)\n",
        "elif (a < 0) & (b < 0):\n",
        "  print(3)\n",
        "elif (a > 0) & (b < 0):\n",
        "  print(4)"
      ],
      "execution_count": null,
      "outputs": [
        {
          "output_type": "stream",
          "text": [
            "-1\n",
            "-1\n"
          ],
          "name": "stdout"
        }
      ]
    },
    {
      "cell_type": "code",
      "metadata": {
        "colab": {
          "base_uri": "https://localhost:8080/"
        },
        "id": "aqaIcBYedIh-",
        "outputId": "0963e386-00c9-4ad8-bf57-09f65f825648"
      },
      "source": [
        "#2884 알람 시계\n",
        "a,b = map(int,input().split())\n",
        "\n",
        "if ((b-45) < 0) & (a == 0):\n",
        "  a = 24\n",
        "\n",
        "time = (a*60)+b-45\n",
        "print(f'{time//60} {time%60}')"
      ],
      "execution_count": null,
      "outputs": [
        {
          "output_type": "stream",
          "text": [
            "0 46\n",
            "0 1\n"
          ],
          "name": "stdout"
        }
      ]
    },
    {
      "cell_type": "code",
      "metadata": {
        "colab": {
          "base_uri": "https://localhost:8080/"
        },
        "id": "krLdqDUQd1YA",
        "outputId": "bdcfda1f-c9bc-45b8-f405-8090893d689e"
      },
      "source": [
        "#2739 구구단\n",
        "a = int(input())\n",
        "\n",
        "for i in range(1,10):\n",
        "  print(f'{a} * {i} = {a*i}')"
      ],
      "execution_count": null,
      "outputs": [
        {
          "output_type": "stream",
          "text": [
            "2\n",
            "2 * 1 = 2\n",
            "2 * 2 = 4\n",
            "2 * 3 = 6\n",
            "2 * 4 = 8\n",
            "2 * 5 = 10\n",
            "2 * 6 = 12\n",
            "2 * 7 = 14\n",
            "2 * 8 = 16\n",
            "2 * 9 = 18\n"
          ],
          "name": "stdout"
        }
      ]
    },
    {
      "cell_type": "code",
      "metadata": {
        "colab": {
          "base_uri": "https://localhost:8080/"
        },
        "id": "oT-FqHs-fiIP",
        "outputId": "5a99f148-8748-4710-fb77-143d3f132acf"
      },
      "source": [
        "#10950 A+B-3\n",
        "a = int(input())\n",
        "\n",
        "for i in range(a):\n",
        "  b,c = map(int,input().split())\n",
        "  print(b+c)"
      ],
      "execution_count": null,
      "outputs": [
        {
          "output_type": "stream",
          "text": [
            "5\n",
            "1 1\n",
            "2\n",
            "2 3\n",
            "5\n",
            "3 4\n",
            "7\n",
            "9 8\n",
            "17\n",
            "5 2\n",
            "7\n"
          ],
          "name": "stdout"
        }
      ]
    },
    {
      "cell_type": "code",
      "metadata": {
        "colab": {
          "base_uri": "https://localhost:8080/"
        },
        "id": "7larMsXygF1z",
        "outputId": "9c2b67ef-858d-4f70-e4fb-202c98687412"
      },
      "source": [
        "#8393 합\n",
        "a = int(input())\n",
        "answer = 0\n",
        "\n",
        "for i in range(1,a+1):\n",
        "  answer += i\n",
        "\n",
        "print(answer)"
      ],
      "execution_count": null,
      "outputs": [
        {
          "output_type": "stream",
          "text": [
            "3\n",
            "6\n"
          ],
          "name": "stdout"
        }
      ]
    },
    {
      "cell_type": "code",
      "metadata": {
        "colab": {
          "base_uri": "https://localhost:8080/",
          "height": 245
        },
        "id": "vD8JirLOgaTD",
        "outputId": "d40c6f66-93aa-478f-9cbc-f2bcfdb9d529"
      },
      "source": [
        "#15552 빠른A-B\n",
        "  #파이참 사용\n",
        "import sys\n",
        "a = int(sys.stdin.readline())\n",
        "\n",
        "for i in range(a):\n",
        "  b,c = map(int,sys.stdin.readline().split())\n",
        "  print(b+c)"
      ],
      "execution_count": null,
      "outputs": [
        {
          "output_type": "error",
          "ename": "ValueError",
          "evalue": "ignored",
          "traceback": [
            "\u001b[0;31m---------------------------------------------------------------------------\u001b[0m",
            "\u001b[0;31mValueError\u001b[0m                                Traceback (most recent call last)",
            "\u001b[0;32m<ipython-input-88-8187f676e2d7>\u001b[0m in \u001b[0;36m<module>\u001b[0;34m()\u001b[0m\n\u001b[1;32m      2\u001b[0m   \u001b[0;31m#파이참 사용\u001b[0m\u001b[0;34m\u001b[0m\u001b[0;34m\u001b[0m\u001b[0;34m\u001b[0m\u001b[0m\n\u001b[1;32m      3\u001b[0m \u001b[0;32mimport\u001b[0m \u001b[0msys\u001b[0m\u001b[0;34m\u001b[0m\u001b[0;34m\u001b[0m\u001b[0m\n\u001b[0;32m----> 4\u001b[0;31m \u001b[0ma\u001b[0m \u001b[0;34m=\u001b[0m \u001b[0mint\u001b[0m\u001b[0;34m(\u001b[0m\u001b[0msys\u001b[0m\u001b[0;34m.\u001b[0m\u001b[0mstdin\u001b[0m\u001b[0;34m.\u001b[0m\u001b[0mreadline\u001b[0m\u001b[0;34m(\u001b[0m\u001b[0;34m)\u001b[0m\u001b[0;34m)\u001b[0m\u001b[0;34m\u001b[0m\u001b[0;34m\u001b[0m\u001b[0m\n\u001b[0m\u001b[1;32m      5\u001b[0m \u001b[0;34m\u001b[0m\u001b[0m\n\u001b[1;32m      6\u001b[0m \u001b[0;32mfor\u001b[0m \u001b[0mi\u001b[0m \u001b[0;32min\u001b[0m \u001b[0mrange\u001b[0m\u001b[0;34m(\u001b[0m\u001b[0ma\u001b[0m\u001b[0;34m)\u001b[0m\u001b[0;34m:\u001b[0m\u001b[0;34m\u001b[0m\u001b[0;34m\u001b[0m\u001b[0m\n",
            "\u001b[0;31mValueError\u001b[0m: invalid literal for int() with base 10: ''"
          ]
        }
      ]
    },
    {
      "cell_type": "code",
      "metadata": {
        "colab": {
          "base_uri": "https://localhost:8080/"
        },
        "id": "dbQVBCFJiGVL",
        "outputId": "ab8e0713-9a4c-43c4-d945-c39ac8277510"
      },
      "source": [
        "#2741 N찍기\n",
        "a = int(input())\n",
        "\n",
        "for i in range(1,a+1):\n",
        "  print(i)"
      ],
      "execution_count": null,
      "outputs": [
        {
          "output_type": "stream",
          "text": [
            "5\n",
            "1\n",
            "2\n",
            "3\n",
            "4\n",
            "5\n"
          ],
          "name": "stdout"
        }
      ]
    },
    {
      "cell_type": "code",
      "metadata": {
        "colab": {
          "base_uri": "https://localhost:8080/"
        },
        "id": "kT3eyvApiZUo",
        "outputId": "e6ea852e-a733-426a-ea09-64759564f4b3"
      },
      "source": [
        "#2742 기찍N\n",
        "a = int(input())\n",
        "\n",
        "for i in range(a,0,-1):\n",
        "  print(i)"
      ],
      "execution_count": null,
      "outputs": [
        {
          "output_type": "stream",
          "text": [
            "5\n",
            "5\n",
            "4\n",
            "3\n",
            "2\n",
            "1\n"
          ],
          "name": "stdout"
        }
      ]
    },
    {
      "cell_type": "code",
      "metadata": {
        "colab": {
          "base_uri": "https://localhost:8080/"
        },
        "id": "MnjjhoeJinFG",
        "outputId": "0d67a90b-9c91-4c84-d5e4-ac14b32cf66c"
      },
      "source": [
        "#11021 A+B-7\n",
        "a = int(input())\n",
        "\n",
        "for i in range(a):\n",
        "  b,c = map(int,input().split())\n",
        "  print(f'Case #{i+1}: {b+c}')"
      ],
      "execution_count": null,
      "outputs": [
        {
          "output_type": "stream",
          "text": [
            "5\n",
            "1 1\n",
            "Case #1: 2\n",
            "2 3\n",
            "Case #2: 5\n",
            "3 4\n",
            "Case #3: 7\n",
            "9 8\n",
            "Case #4: 17\n",
            "5 2\n",
            "Case #5: 7\n"
          ],
          "name": "stdout"
        }
      ]
    },
    {
      "cell_type": "code",
      "metadata": {
        "colab": {
          "base_uri": "https://localhost:8080/"
        },
        "id": "JRPeGE9djC3j",
        "outputId": "2a41a850-5de9-4a4c-c382-c45eac1d2b5b"
      },
      "source": [
        "#11022 A+B-8\n",
        "a = int(input())\n",
        "\n",
        "for i in range(a):\n",
        "  b,c = map(int,input().split())\n",
        "  print(f'Case #{i+1}: {b} + {c} = {b+c}')"
      ],
      "execution_count": null,
      "outputs": [
        {
          "output_type": "stream",
          "text": [
            "2\n",
            "1 1\n",
            "Case #1: 1 + 1 = 2\n",
            "2 2\n",
            "Case #2: 2 + 2 = 4\n"
          ],
          "name": "stdout"
        }
      ]
    },
    {
      "cell_type": "code",
      "metadata": {
        "colab": {
          "base_uri": "https://localhost:8080/"
        },
        "id": "g8ycJUzgjUy_",
        "outputId": "f39692c1-e13f-4fa0-a0c5-21b9611f9477"
      },
      "source": [
        "#2438 별찍기\n",
        "a = int(input())\n",
        "\n",
        "for i in range(1,a+1):\n",
        "  print(i*'*')"
      ],
      "execution_count": null,
      "outputs": [
        {
          "output_type": "stream",
          "text": [
            "5\n",
            "*\n",
            "**\n",
            "***\n",
            "****\n",
            "*****\n"
          ],
          "name": "stdout"
        }
      ]
    },
    {
      "cell_type": "code",
      "metadata": {
        "colab": {
          "base_uri": "https://localhost:8080/"
        },
        "id": "OP9yDGQxjqRt",
        "outputId": "b8df7ad2-b0d1-4152-e5fd-a6910867819c"
      },
      "source": [
        "#2439 별찍기 2\n",
        "a = int(input())\n",
        "\n",
        "for i in range(1, a+1):\n",
        "  print(f\"{' '*(a-i)}{'*'*i}\")"
      ],
      "execution_count": null,
      "outputs": [
        {
          "output_type": "stream",
          "text": [
            "5\n",
            "    *\n",
            "   **\n",
            "  ***\n",
            " ****\n",
            "*****\n"
          ],
          "name": "stdout"
        }
      ]
    },
    {
      "cell_type": "code",
      "metadata": {
        "colab": {
          "base_uri": "https://localhost:8080/"
        },
        "id": "6bpgtYo6lxl_",
        "outputId": "371bb617-d585-40ae-fe3b-3a84ab9009ce"
      },
      "source": [
        "#10871 X보다 작은수\n",
        "a,b = map(int,input().split())\n",
        "a_list = list(map(int,input().split()))\n",
        "\n",
        "for i in a_list:\n",
        "  if i < b :\n",
        "    print(f'{i} ', end ='')"
      ],
      "execution_count": null,
      "outputs": [
        {
          "output_type": "stream",
          "text": [
            "10 5\n",
            "1 10 4 9 2 3 8 5 7 6\n",
            "1 4 2 3 "
          ],
          "name": "stdout"
        }
      ]
    },
    {
      "cell_type": "code",
      "metadata": {
        "colab": {
          "base_uri": "https://localhost:8080/"
        },
        "id": "idEYJP2Bn9sW",
        "outputId": "a6f60846-dce5-4e2c-fcac-2c85e9a968d5"
      },
      "source": [
        "#10952 A+B-5\n",
        "while True:\n",
        "  a,b = map(int,input().split())\n",
        "\n",
        "  if (a+b) < 1:\n",
        "    break\n",
        "    \n",
        "  print(a+b)"
      ],
      "execution_count": null,
      "outputs": [
        {
          "output_type": "stream",
          "text": [
            "1 1\n",
            "2\n",
            "2 3\n",
            "5\n",
            "0 0\n"
          ],
          "name": "stdout"
        }
      ]
    },
    {
      "cell_type": "code",
      "metadata": {
        "colab": {
          "base_uri": "https://localhost:8080/"
        },
        "id": "Y7AYbBRKo883",
        "outputId": "63fef18b-5733-4faf-9f86-335ece4411df"
      },
      "source": [
        "#10951 A+B-4\n",
        "  #예외처리\n",
        "while True:\n",
        "  try : \n",
        "    a,b = map(int,input().split())\n",
        "    print(a+b)\n",
        "  except:\n",
        "    break"
      ],
      "execution_count": null,
      "outputs": [
        {
          "output_type": "stream",
          "text": [
            "1 1 2 3 3 4 9 8 5 2\n",
            "2\n",
            "5\n",
            "7\n",
            "17\n",
            "7\n"
          ],
          "name": "stdout"
        }
      ]
    },
    {
      "cell_type": "code",
      "metadata": {
        "colab": {
          "base_uri": "https://localhost:8080/"
        },
        "id": "glHA1BrhGuFG",
        "outputId": "dd36e0eb-8778-4add-b429-2de9d99e1444"
      },
      "source": [
        "#1110 더하기 사이클\n",
        "num = int(input())\n",
        "check = num\n",
        "new_num = 0\n",
        "cycle = 0\n",
        "\n",
        "while True:\n",
        "  new_num = (num%10)*10 + (num//10 + num%10)%10\n",
        "  cycle += 1\n",
        "  num = new_num\n",
        "  if new_num == check:\n",
        "    break\n",
        "\n",
        "print(cycle)"
      ],
      "execution_count": null,
      "outputs": [
        {
          "output_type": "stream",
          "text": [
            "26\n",
            "4\n"
          ],
          "name": "stdout"
        }
      ]
    },
    {
      "cell_type": "code",
      "metadata": {
        "colab": {
          "base_uri": "https://localhost:8080/"
        },
        "id": "tW332eWx1gjI",
        "outputId": "ff88d1bd-d953-4083-8ee8-282bb30aa325"
      },
      "source": [
        "#10818 최소최대\n",
        "a = int(input())\n",
        "b = list(map(int,input().split()))\n",
        "\n",
        "print(f\"{min(b)} {max(b)}\")"
      ],
      "execution_count": null,
      "outputs": [
        {
          "output_type": "stream",
          "text": [
            "5\n",
            "20 10 35 30 7\n",
            "7 35\n"
          ],
          "name": "stdout"
        }
      ]
    },
    {
      "cell_type": "code",
      "metadata": {
        "colab": {
          "base_uri": "https://localhost:8080/"
        },
        "id": "f6hIX1JD2kUt",
        "outputId": "d87bf9f0-33d5-401b-d9eb-7856faf682c7"
      },
      "source": [
        "#2562 최댓값\n",
        "  #9번 입력\n",
        "a_list = []\n",
        "\n",
        "for i in range(9):\n",
        "  a_list.append(int(input()))\n",
        "\n",
        "print(max(a_list))\n",
        "print(a_list.index(max(a_list))+1)"
      ],
      "execution_count": null,
      "outputs": [
        {
          "output_type": "stream",
          "text": [
            "1\n",
            "1\n",
            "1\n",
            "1\n",
            "5\n",
            "1\n",
            "1\n",
            "1\n",
            "1\n",
            "5\n",
            "5\n"
          ],
          "name": "stdout"
        }
      ]
    },
    {
      "cell_type": "code",
      "metadata": {
        "colab": {
          "base_uri": "https://localhost:8080/"
        },
        "id": "ofz9bdD14nvR",
        "outputId": "8d4afba7-6815-4f71-f0b3-8afd868d6636"
      },
      "source": [
        "#2577 숫자의개수\n",
        "a = int(input())\n",
        "b = int(input())\n",
        "c = int(input())\n",
        "d = str(a*b*c)\n",
        "\n",
        "for i in range(0,10):\n",
        "  print(d.count(f'{i}'))\n",
        "\n",
        "  \n",
        "\n"
      ],
      "execution_count": null,
      "outputs": [
        {
          "output_type": "stream",
          "text": [
            "46\n",
            "78\n",
            "95\n",
            "2\n",
            "0\n",
            "0\n",
            "1\n",
            "1\n",
            "0\n",
            "1\n",
            "0\n",
            "1\n",
            "0\n"
          ],
          "name": "stdout"
        }
      ]
    },
    {
      "cell_type": "code",
      "metadata": {
        "colab": {
          "base_uri": "https://localhost:8080/"
        },
        "id": "PHrbkezy5W83",
        "outputId": "cb756d2d-940a-4e82-c8fe-9f5c68e1696e"
      },
      "source": [
        "#3052 나머지\n",
        "a = []\n",
        "for i in range(10):\n",
        "  a.append(int(input())%42)\n",
        "\n",
        "print(len(list(set(a))))"
      ],
      "execution_count": null,
      "outputs": [
        {
          "output_type": "stream",
          "text": [
            "1\n",
            "2\n",
            "3\n",
            "4\n",
            "5\n",
            "6\n",
            "7\n",
            "8\n",
            "9\n",
            "10\n",
            "10\n"
          ],
          "name": "stdout"
        }
      ]
    },
    {
      "cell_type": "code",
      "metadata": {
        "colab": {
          "base_uri": "https://localhost:8080/"
        },
        "id": "CTf6j_rI59Q6",
        "outputId": "9665f7b8-2a16-4b11-bb9c-f53d2f2ffbe0"
      },
      "source": [
        "#1546 평균\n",
        "n = int(input())\n",
        "n_list = list(map(int,input().split()))\n",
        "n_max = max(n_list)\n",
        "new_list = []\n",
        "\n",
        "for i in n_list:\n",
        "  new_list.append(i/n_max*100)\n",
        "\n",
        "print(sum(new_list)/len(new_list))"
      ],
      "execution_count": null,
      "outputs": [
        {
          "output_type": "stream",
          "text": [
            "3\n",
            "40 80 60\n",
            "75.0\n"
          ],
          "name": "stdout"
        }
      ]
    },
    {
      "cell_type": "code",
      "metadata": {
        "colab": {
          "base_uri": "https://localhost:8080/"
        },
        "id": "pgUnfjhR7KQp",
        "outputId": "50301a53-cf71-47f7-b3b1-42c5c875ced0"
      },
      "source": [
        "#8958 OX퀴즈\n",
        "a = int(input())\n",
        "\n",
        "def f_sum(n):\n",
        "  num = 0\n",
        "  for i in range(1,n+1):\n",
        "    num += i\n",
        "  return num\n",
        "\n",
        "for i in range(a):\n",
        "  answer = 0\n",
        "  a_list = input().split('X')\n",
        "  print(a_list)\n",
        "  for j in a_list:\n",
        "    answer += f_sum(j.count('O'))\n",
        "\n",
        "  print(answer)"
      ],
      "execution_count": null,
      "outputs": [
        {
          "output_type": "stream",
          "text": [
            "1\n",
            "OOXXOXXOOO\n",
            "['OO', '', 'O', '', 'OOO']\n",
            "10\n"
          ],
          "name": "stdout"
        }
      ]
    },
    {
      "cell_type": "code",
      "metadata": {
        "colab": {
          "base_uri": "https://localhost:8080/"
        },
        "id": "o-8UxXXy-Rtz",
        "outputId": "a744f865-7b15-4771-e8ce-7957934654da"
      },
      "source": [
        "#4344 평균은 넘겠지\n",
        "a = int(input())\n",
        "\n",
        "for i in range(a):\n",
        "  winner = []\n",
        "  a_list = list(map(int,input().split()))\n",
        "  a_avr = sum(a_list[1:])/a_list[0]\n",
        "\n",
        "  for j in range(1,a_list[0]+1):\n",
        "    if a_list[j] > a_avr:\n",
        "      winner.append(a_list[j])\n",
        "\n",
        "  print(f\"{len(winner)/a_list[0]*100:.3f}%\")"
      ],
      "execution_count": null,
      "outputs": [
        {
          "output_type": "stream",
          "text": [
            "1\n",
            "9 100 99 98 97 96 95 94 93 91\n",
            "55.556%\n"
          ],
          "name": "stdout"
        }
      ]
    },
    {
      "cell_type": "code",
      "metadata": {
        "colab": {
          "base_uri": "https://localhost:8080/"
        },
        "id": "E1YgIsq_JnDC",
        "outputId": "9d037b6f-0727-4f82-ded5-ec191168d509"
      },
      "source": [
        "#15596 정수N개의 합\n",
        "def slove(a_list):\n",
        "  return(sum(a_list))\n",
        "\n",
        "slove([1,2,3])"
      ],
      "execution_count": null,
      "outputs": [
        {
          "output_type": "execute_result",
          "data": {
            "text/plain": [
              "6"
            ]
          },
          "metadata": {
            "tags": []
          },
          "execution_count": 2
        }
      ]
    },
    {
      "cell_type": "code",
      "metadata": {
        "colab": {
          "base_uri": "https://localhost:8080/",
          "height": 245
        },
        "id": "hgBXRdSGKjKV",
        "outputId": "57accd77-61d1-4d60-9906-1d010c36beac"
      },
      "source": [
        "#4673 셀프넘버_ 시간초과\n",
        "self_num = list(range(1,10001))\n",
        "\n",
        "for i in self_num:\n",
        "  x1 = 0\n",
        "  while x1 < 10000:\n",
        "    x1 = i + (i//10000) + ((i//1000)%10) + ((i//100)%10) + ((i//10)%10) + (i%10)\n",
        "    if x1 in self_num:\n",
        "      self_num.remove(x1)\n",
        "    i = x1\n",
        "\n",
        "for i in self_num:\n",
        "  print(i)"
      ],
      "execution_count": null,
      "outputs": [
        {
          "output_type": "error",
          "ename": "KeyboardInterrupt",
          "evalue": "ignored",
          "traceback": [
            "\u001b[0;31m---------------------------------------------------------------------------\u001b[0m",
            "\u001b[0;31mKeyboardInterrupt\u001b[0m                         Traceback (most recent call last)",
            "\u001b[0;32m<ipython-input-40-65afb46d0064>\u001b[0m in \u001b[0;36m<module>\u001b[0;34m()\u001b[0m\n\u001b[1;32m      6\u001b[0m   \u001b[0;32mwhile\u001b[0m \u001b[0mx1\u001b[0m \u001b[0;34m<\u001b[0m \u001b[0;36m10000\u001b[0m\u001b[0;34m:\u001b[0m\u001b[0;34m\u001b[0m\u001b[0;34m\u001b[0m\u001b[0m\n\u001b[1;32m      7\u001b[0m     \u001b[0mx1\u001b[0m \u001b[0;34m=\u001b[0m \u001b[0mi\u001b[0m \u001b[0;34m+\u001b[0m \u001b[0;34m(\u001b[0m\u001b[0mi\u001b[0m\u001b[0;34m//\u001b[0m\u001b[0;36m10000\u001b[0m\u001b[0;34m)\u001b[0m \u001b[0;34m+\u001b[0m \u001b[0;34m(\u001b[0m\u001b[0;34m(\u001b[0m\u001b[0mi\u001b[0m\u001b[0;34m//\u001b[0m\u001b[0;36m1000\u001b[0m\u001b[0;34m)\u001b[0m\u001b[0;34m%\u001b[0m\u001b[0;36m10\u001b[0m\u001b[0;34m)\u001b[0m \u001b[0;34m+\u001b[0m \u001b[0;34m(\u001b[0m\u001b[0;34m(\u001b[0m\u001b[0mi\u001b[0m\u001b[0;34m//\u001b[0m\u001b[0;36m100\u001b[0m\u001b[0;34m)\u001b[0m\u001b[0;34m%\u001b[0m\u001b[0;36m10\u001b[0m\u001b[0;34m)\u001b[0m \u001b[0;34m+\u001b[0m \u001b[0;34m(\u001b[0m\u001b[0;34m(\u001b[0m\u001b[0mi\u001b[0m\u001b[0;34m//\u001b[0m\u001b[0;36m10\u001b[0m\u001b[0;34m)\u001b[0m\u001b[0;34m%\u001b[0m\u001b[0;36m10\u001b[0m\u001b[0;34m)\u001b[0m \u001b[0;34m+\u001b[0m \u001b[0;34m(\u001b[0m\u001b[0mi\u001b[0m\u001b[0;34m%\u001b[0m\u001b[0;36m10\u001b[0m\u001b[0;34m)\u001b[0m\u001b[0;34m\u001b[0m\u001b[0;34m\u001b[0m\u001b[0m\n\u001b[0;32m----> 8\u001b[0;31m     \u001b[0;32mif\u001b[0m \u001b[0mx1\u001b[0m \u001b[0;32min\u001b[0m \u001b[0mself_num\u001b[0m\u001b[0;34m:\u001b[0m\u001b[0;34m\u001b[0m\u001b[0;34m\u001b[0m\u001b[0m\n\u001b[0m\u001b[1;32m      9\u001b[0m       \u001b[0mself_num\u001b[0m\u001b[0;34m.\u001b[0m\u001b[0mremove\u001b[0m\u001b[0;34m(\u001b[0m\u001b[0mx1\u001b[0m\u001b[0;34m)\u001b[0m\u001b[0;34m\u001b[0m\u001b[0;34m\u001b[0m\u001b[0m\n\u001b[1;32m     10\u001b[0m     \u001b[0mi\u001b[0m \u001b[0;34m=\u001b[0m \u001b[0mx1\u001b[0m\u001b[0;34m\u001b[0m\u001b[0;34m\u001b[0m\u001b[0m\n",
            "\u001b[0;31mKeyboardInterrupt\u001b[0m: "
          ]
        }
      ]
    },
    {
      "cell_type": "code",
      "metadata": {
        "colab": {
          "base_uri": "https://localhost:8080/",
          "height": 245
        },
        "id": "XcYrMrVt2vTB",
        "outputId": "af34d183-fac5-4a71-c14d-1d006fbda43f"
      },
      "source": [
        "#4673 셀프넘버 _ 통과 ><\n",
        "not_self_num = []   #셀프넘버가 아닌 수_생성수\n",
        "self_num = set(range(1,10001)) #셀프넘버가 저장될 1~10000까지 숫자 집합\n",
        "\n",
        "for i in range(1,10001):  #1~10000\n",
        "  x1 = 0\n",
        "  while x1 < 10000:   #생성수가 10000을 넘어가면 break\n",
        "    x1 = i + (i//10000) + ((i//1000)%10) + ((i//100)%10) + ((i//10)%10) + (i%10) #생성수 알고리즘\n",
        "    not_self_num.append(x1) #생성수.append\n",
        "    i = x1  #생성수 cycle\n",
        "  not_self_num = list(set(not_self_num)) #생성수에서 조합(set) 이용해서 중복제거\n",
        "\n",
        "for i in sorted(list(self_num - set(not_self_num))): #1~10000 까지 숫자 리스트에서 생성수리스트 차집합 후 정렬하여 출력\n",
        "  print(i)"
      ],
      "execution_count": null,
      "outputs": [
        {
          "output_type": "error",
          "ename": "KeyboardInterrupt",
          "evalue": "ignored",
          "traceback": [
            "\u001b[0;31m---------------------------------------------------------------------------\u001b[0m",
            "\u001b[0;31mKeyboardInterrupt\u001b[0m                         Traceback (most recent call last)",
            "\u001b[0;32m<ipython-input-51-60cc29a76ede>\u001b[0m in \u001b[0;36m<module>\u001b[0;34m()\u001b[0m\n\u001b[1;32m      9\u001b[0m     \u001b[0mnot_self_num\u001b[0m\u001b[0;34m.\u001b[0m\u001b[0mappend\u001b[0m\u001b[0;34m(\u001b[0m\u001b[0mx1\u001b[0m\u001b[0;34m)\u001b[0m\u001b[0;34m\u001b[0m\u001b[0;34m\u001b[0m\u001b[0m\n\u001b[1;32m     10\u001b[0m     \u001b[0mi\u001b[0m \u001b[0;34m=\u001b[0m \u001b[0mx1\u001b[0m\u001b[0;34m\u001b[0m\u001b[0;34m\u001b[0m\u001b[0m\n\u001b[0;32m---> 11\u001b[0;31m   \u001b[0mnot_self_num\u001b[0m \u001b[0;34m=\u001b[0m \u001b[0mlist\u001b[0m\u001b[0;34m(\u001b[0m\u001b[0mset\u001b[0m\u001b[0;34m(\u001b[0m\u001b[0mnot_self_num\u001b[0m\u001b[0;34m)\u001b[0m\u001b[0;34m)\u001b[0m\u001b[0;34m\u001b[0m\u001b[0;34m\u001b[0m\u001b[0m\n\u001b[0m\u001b[1;32m     12\u001b[0m \u001b[0;34m\u001b[0m\u001b[0m\n\u001b[1;32m     13\u001b[0m \u001b[0;32mfor\u001b[0m \u001b[0mi\u001b[0m \u001b[0;32min\u001b[0m \u001b[0msorted\u001b[0m\u001b[0;34m(\u001b[0m\u001b[0mlist\u001b[0m\u001b[0;34m(\u001b[0m\u001b[0mself_num\u001b[0m \u001b[0;34m-\u001b[0m \u001b[0mset\u001b[0m\u001b[0;34m(\u001b[0m\u001b[0mnot_self_num\u001b[0m\u001b[0;34m)\u001b[0m\u001b[0;34m)\u001b[0m\u001b[0;34m)\u001b[0m\u001b[0;34m:\u001b[0m\u001b[0;34m\u001b[0m\u001b[0;34m\u001b[0m\u001b[0m\n",
            "\u001b[0;31mKeyboardInterrupt\u001b[0m: "
          ]
        }
      ]
    },
    {
      "cell_type": "code",
      "metadata": {
        "colab": {
          "base_uri": "https://localhost:8080/"
        },
        "id": "W3i-zoQBSRwy",
        "outputId": "7939d947-ea4a-4b06-ecab-5cf54bf67847"
      },
      "source": [
        "#1065 한수\n",
        "n = int(input())#정수형으로 입력\n",
        "hansu = [] #한수를 저장할 빈 리스트\n",
        "\n",
        "for i in range(1,n+1):\n",
        "  if i < 100:\n",
        "    hansu.append(i)\n",
        "  else:\n",
        "    if (((i//10)%10) - (i//100)) == ((i%10)-((i//10)%10)):\n",
        "      hansu.append(i)\n",
        "\n",
        "print(len(hansu))"
      ],
      "execution_count": null,
      "outputs": [
        {
          "output_type": "stream",
          "text": [
            "1000\n",
            "144\n"
          ],
          "name": "stdout"
        }
      ]
    },
    {
      "cell_type": "code",
      "metadata": {
        "colab": {
          "base_uri": "https://localhost:8080/"
        },
        "id": "8814A9Nq_8zr",
        "outputId": "bc587af9-b0ac-46e6-896a-b6c3007d6645"
      },
      "source": [
        "#한수 현진쓰 풀이\n",
        "n = int(input())\n",
        "a = set(range(1,n+1))\n",
        "b = set()\n",
        "\n",
        "for i in a:\n",
        "  for j in range(1, len(str(i))-1):\n",
        "    if int(str(i)[j-1]) - int(str(i)[j]) != int(str(i)[j]) - int(str(i)[j+1]):\n",
        "      b.add(i)\n",
        "\n",
        "num_list = a-b\n",
        "print(len(num_list))"
      ],
      "execution_count": null,
      "outputs": [
        {
          "output_type": "stream",
          "text": [
            "100\n",
            "99\n"
          ],
          "name": "stdout"
        }
      ]
    },
    {
      "cell_type": "code",
      "metadata": {
        "colab": {
          "base_uri": "https://localhost:8080/"
        },
        "id": "3an0yZkWJDjl",
        "outputId": "b08ea972-cfe9-4c39-b44b-a2bf81f2da0e"
      },
      "source": [
        "#11654 아스키코드\n",
        "print(ord(input()))"
      ],
      "execution_count": null,
      "outputs": [
        {
          "output_type": "stream",
          "text": [
            "A\n",
            "65\n"
          ],
          "name": "stdout"
        }
      ]
    },
    {
      "cell_type": "code",
      "metadata": {
        "colab": {
          "base_uri": "https://localhost:8080/"
        },
        "id": "bZUA4g95J59D",
        "outputId": "435b69c2-1a33-4cb2-849f-e1fd75d386a8"
      },
      "source": [
        "#11720 숫자의합\n",
        "a = input()\n",
        "b = list(map(int,list(input())))\n",
        "# map(함수, 리스트)\n",
        "print(sum(b))"
      ],
      "execution_count": null,
      "outputs": [
        {
          "output_type": "stream",
          "text": [
            "1\n",
            "53421\n",
            "['5', '3', '4', '2', '1']\n"
          ],
          "name": "stdout"
        }
      ]
    },
    {
      "cell_type": "code",
      "metadata": {
        "id": "Cq9uG0dF58yt"
      },
      "source": [
        "n = int(input())\n",
        "num=[]\n",
        "for i in range(n):\n",
        "  a = int(input())\n",
        "  num.append(a)\n",
        "print(sum(num))"
      ],
      "execution_count": null,
      "outputs": []
    },
    {
      "cell_type": "code",
      "metadata": {
        "colab": {
          "base_uri": "https://localhost:8080/"
        },
        "id": "cGb9pQAMOJEo",
        "outputId": "7680b54d-74c1-4317-eeec-525a871e8504"
      },
      "source": [
        "#나머지와 몫이 같은 수 구하기\n",
        "answer = []\n",
        "\n",
        "num = int(input())\n",
        "# i = 1\n",
        "\n",
        "for i in range(1,num**2):\n",
        "  if i//num == i%num:\n",
        "    answer.append(i)\n",
        "\n",
        "print(sum(answer))"
      ],
      "execution_count": null,
      "outputs": [
        {
          "output_type": "stream",
          "text": [
            "4\n",
            "30\n"
          ],
          "name": "stdout"
        }
      ]
    },
    {
      "cell_type": "code",
      "metadata": {
        "colab": {
          "base_uri": "https://localhost:8080/"
        },
        "id": "veXU_b89TKTw",
        "outputId": "6ef2020f-7da9-435a-a26c-cae557e8e94c"
      },
      "source": [
        "#나머지와 몫이 같은 수 구하기 현진쓰풀이\n",
        "list_n = []\n",
        "n = int(input())\n",
        "\n",
        "for i in range(n):\n",
        "  a = (n+1) * i\n",
        "  list_n.append(a)\n",
        "\n",
        "print(sum(list_n))"
      ],
      "execution_count": null,
      "outputs": [
        {
          "output_type": "stream",
          "text": [
            "4\n",
            "30\n"
          ],
          "name": "stdout"
        }
      ]
    },
    {
      "cell_type": "code",
      "metadata": {
        "colab": {
          "base_uri": "https://localhost:8080/"
        },
        "id": "FDixY7yoZFLW",
        "outputId": "1b3584c1-62a4-4062-ed2f-2e26c0b8cd86"
      },
      "source": [
        "#나머지와 몫이 같은 수 구하기 #한줄풀이\n",
        "n = int(input())\n",
        "print(sum([(n+1)*i for i in range(n)]))"
      ],
      "execution_count": null,
      "outputs": [
        {
          "output_type": "stream",
          "text": [
            "3\n",
            "12\n"
          ],
          "name": "stdout"
        }
      ]
    },
    {
      "cell_type": "code",
      "metadata": {
        "colab": {
          "base_uri": "https://localhost:8080/"
        },
        "id": "x5rolUj1N23R",
        "outputId": "cfff2c24-214b-4b3e-ba77-6c0066b96f5c"
      },
      "source": [
        "#10809 알파벳찾기 \n",
        "  #chr, ord\n",
        "a = input()\n",
        "  #97 = a\n",
        "  #122 = z\n",
        "for i in range(97,123):\n",
        "  if chr(i) in a:\n",
        "    print(a.index(chr(i)))\n",
        "  else:\n",
        "    print(-1)"
      ],
      "execution_count": null,
      "outputs": [
        {
          "output_type": "stream",
          "text": [
            "abc\n",
            "0\n",
            "1\n",
            "2\n",
            "-1\n",
            "-1\n",
            "-1\n",
            "-1\n",
            "-1\n",
            "-1\n",
            "-1\n",
            "-1\n",
            "-1\n",
            "-1\n",
            "-1\n",
            "-1\n",
            "-1\n",
            "-1\n",
            "-1\n",
            "-1\n",
            "-1\n",
            "-1\n",
            "-1\n",
            "-1\n",
            "-1\n",
            "-1\n",
            "-1\n"
          ],
          "name": "stdout"
        }
      ]
    },
    {
      "cell_type": "code",
      "metadata": {
        "colab": {
          "base_uri": "https://localhost:8080/"
        },
        "id": "QCLkhAIOKpeg",
        "outputId": "74bdf829-cdba-4168-b0fc-6775f4bf208b"
      },
      "source": [
        "#2675 문자열 반복\n",
        "cycle = int(input())\n",
        "\n",
        "for _ in range(cycle):\n",
        "  n, string = input().split()\n",
        "  answer = []\n",
        "  for j in list(string):\n",
        "    answer.append(j * int(n))\n",
        "  print(''.join(answer))"
      ],
      "execution_count": null,
      "outputs": [
        {
          "output_type": "stream",
          "text": [
            "2\n",
            "3 ABC\n",
            "AAABBBCCC\n",
            "5 /HTP\n",
            "/////HHHHHTTTTTPPPPP\n"
          ],
          "name": "stdout"
        }
      ]
    },
    {
      "cell_type": "code",
      "metadata": {
        "colab": {
          "base_uri": "https://localhost:8080/"
        },
        "id": "GFx-dGWsa9Jv",
        "outputId": "10058a19-9206-4d34-e8d9-751174646ac2"
      },
      "source": [
        "#문자열반복 현진쓰풀이\n",
        "try:\n",
        "  N, string = input().split()\n",
        "  n = int(N)\n",
        "  total_string = ''\n",
        "  for i in range(len(string)) :\n",
        "    total_string += str(string[i] * n)\n",
        "  print(total_string)\n",
        "except:\n",
        "  pass"
      ],
      "execution_count": null,
      "outputs": [
        {
          "output_type": "stream",
          "text": [
            "3 ACC\n",
            "AAACCCCCC\n"
          ],
          "name": "stdout"
        }
      ]
    },
    {
      "cell_type": "code",
      "metadata": {
        "colab": {
          "base_uri": "https://localhost:8080/"
        },
        "id": "U3aM0hpuNnud",
        "outputId": "12752df4-0322-4fbc-9ef0-dded0013a59e"
      },
      "source": [
        "#1157 단어 공부\n",
        "  #A = 65\n",
        "  #Z = 90\n",
        "a_list = []\n",
        "a = input().upper()\n",
        "  \n",
        "for i in range(65,91):\n",
        "  a_list.append(a.count(chr(i)))\n",
        "\n",
        "if a_list.count(max(a_list))==1:\n",
        "  print(chr(a_list.index(max(a_list))+65))\n",
        "else:\n",
        "  print('?')"
      ],
      "execution_count": null,
      "outputs": [
        {
          "output_type": "stream",
          "text": [
            "aaabv\n",
            "A\n"
          ],
          "name": "stdout"
        }
      ]
    },
    {
      "cell_type": "code",
      "metadata": {
        "colab": {
          "base_uri": "https://localhost:8080/"
        },
        "id": "qIn5qVCRSMsy",
        "outputId": "b1c8265e-e8aa-40bb-bd5d-cc19d46cdf36"
      },
      "source": [
        "#1152 단어의 개수\n",
        "print(len(input().split()))"
      ],
      "execution_count": null,
      "outputs": [
        {
          "output_type": "stream",
          "text": [
            "The Curious Case of Benjamin Button\n",
            "6\n"
          ],
          "name": "stdout"
        }
      ]
    },
    {
      "cell_type": "code",
      "metadata": {
        "colab": {
          "base_uri": "https://localhost:8080/"
        },
        "id": "wylc-nAshuuq",
        "outputId": "73af1134-4693-41fa-b243-239bc1fd6e49"
      },
      "source": [
        "#2908 상수\n",
        "print(max(list(map(lambda x: x[::-1] ,list(input().split())))))"
      ],
      "execution_count": null,
      "outputs": [
        {
          "output_type": "stream",
          "text": [
            "123 456\n",
            "654\n"
          ],
          "name": "stdout"
        }
      ]
    },
    {
      "cell_type": "code",
      "metadata": {
        "colab": {
          "base_uri": "https://localhost:8080/"
        },
        "id": "UKcI5GFd4UFo",
        "outputId": "4eee17dd-51e1-4a08-9a24-ea6c24fcbc6c"
      },
      "source": [
        "#5622 다이얼\n",
        "num = list(input())\n",
        "cnt = 0\n",
        "\n",
        "dial = [[],['A','B','C'],['D','E','F'],['G','H','I'],\n",
        "        ['J','K','L'],['M','N','O'],['P','Q','R','S'],\n",
        "        ['T','U','V'],['W','X','Y','Z']]\n",
        "\n",
        "for n in num:\n",
        "  for i in range(len(dial)):\n",
        "    if n in dial[i]:\n",
        "      cnt += (i+2)\n",
        "\n",
        "print(cnt)"
      ],
      "execution_count": null,
      "outputs": [
        {
          "output_type": "stream",
          "text": [
            "WA\n",
            "13\n"
          ],
          "name": "stdout"
        }
      ]
    },
    {
      "cell_type": "code",
      "metadata": {
        "colab": {
          "base_uri": "https://localhost:8080/"
        },
        "id": "nchzEneJ0Ttg",
        "outputId": "7e2f9fa6-2ff0-48b4-c4a1-e47b96fbdd24"
      },
      "source": [
        "#2941 크로아티아 알파벳\n",
        "c_num = input()\n",
        "c_num_list = ['c=','c-','dz=','d-','lj','nj','s=','z=']\n",
        "c_cnt = 0\n",
        "z_cnt = 0\n",
        "c_cnt_list = []\n",
        "\n",
        "for num in c_num_list:\n",
        "  if num in c_num:\n",
        "    if num == 'z=':\n",
        "      z_cnt += (c_num.count('z=')-c_num.count('dz='))\n",
        "      for i in range(z_cnt):\n",
        "        c_cnt_list.append('z=')\n",
        "      c_cnt += z_cnt\n",
        "    else:\n",
        "      c_cnt += c_num.count(num)\n",
        "      for i in range(c_num.count(num)):\n",
        "        c_cnt_list.append(num)\n",
        "\n",
        "print(len(c_cnt_list)+(len(c_num)-len(''.join(c_cnt_list))))\n"
      ],
      "execution_count": null,
      "outputs": [
        {
          "output_type": "stream",
          "text": [
            "dz=ak\n",
            "['dz=', 'z=']\n",
            "2\n"
          ],
          "name": "stdout"
        }
      ]
    },
    {
      "cell_type": "code",
      "metadata": {
        "colab": {
          "base_uri": "https://localhost:8080/"
        },
        "id": "F85atEdtRiM6",
        "outputId": "5c11dc1b-503d-4d97-9732-b86e2008e964"
      },
      "source": [
        "#2941 크로아티아알파벳\n",
        "c_num = input()\n",
        "c_num_list = ['c=','c-','dz=','d-','lj','nj','s=','z=']\n",
        "\n",
        "for num in c_num_list:\n",
        "  c_num = c_num.replace(num,',')\n",
        "\n",
        "print(len(c_num))"
      ],
      "execution_count": null,
      "outputs": [
        {
          "output_type": "stream",
          "text": [
            "dz=ak\n",
            "3\n"
          ],
          "name": "stdout"
        }
      ]
    },
    {
      "cell_type": "code",
      "metadata": {
        "colab": {
          "base_uri": "https://localhost:8080/"
        },
        "id": "w2mqXERN61Zb",
        "outputId": "5a422fa2-9994-4c6b-fe33-472636b76d01"
      },
      "source": [
        "#1316 그룹단어체커\n",
        "times = int(input())\n",
        "not_g = 0\n",
        "\n",
        "for cycle in range(times):\n",
        "  \n",
        "  check_list = []\n",
        "  key = list(input())\n",
        "\n",
        "  for i in range(len(key)):\n",
        "    \n",
        "    if key[i] in check_list:\n",
        "      not_g += 1\n",
        "      break\n",
        "\n",
        "    if i < len(key)-1:\n",
        "      if key[i] != key[i+1]:\n",
        "        check_list.append(key[i])\n",
        "  \n",
        "print(times-not_g)"
      ],
      "execution_count": null,
      "outputs": [
        {
          "output_type": "stream",
          "text": [
            "4\n",
            "aba\n",
            "abab\n",
            "abcabc\n",
            "a\n",
            "1\n"
          ],
          "name": "stdout"
        }
      ]
    },
    {
      "cell_type": "code",
      "metadata": {
        "colab": {
          "base_uri": "https://localhost:8080/"
        },
        "id": "_JCGgzsVsMa6",
        "outputId": "a32b7825-aacf-4ae9-d6da-ccc77b311318"
      },
      "source": [
        "#1316 그룹단어체커\n",
        "times = int(input())\n",
        "not_g = 0\n",
        "\n",
        "for _ in range(times):\n",
        "  \n",
        "  check_list = []\n",
        "  key = list(input())\n",
        "\n",
        "  for idx,value in enumerate(key):\n",
        "      \n",
        "    if value in check_list:\n",
        "      not_g += 1\n",
        "      break\n",
        "\n",
        "    if idx < len(key)-1:\n",
        "      if key[idx] != key[idx+1]:\n",
        "        check_list.append(value)\n",
        "  \n",
        "print(times-not_g)"
      ],
      "execution_count": null,
      "outputs": [
        {
          "output_type": "stream",
          "text": [
            "3\n",
            "happy\n",
            "new\n",
            "abca\n",
            "2\n"
          ],
          "name": "stdout"
        }
      ]
    },
    {
      "cell_type": "markdown",
      "metadata": {
        "id": "tGfP4L2Pco2i"
      },
      "source": [
        "#알고리즘수업 #휴식을위하여\n",
        "- 공사현장은 (a,b)\n",
        "- 공사현장에서 R만큼 떨어져야한다.\n",
        "- 공원에는 그늘이 N개 존재함\n",
        "- 그늘의 위치는 (x_i,y_i)\n",
        "- 각 그늘이 공사현장에서 R이상 떨어진 그늘인지 판별."
      ]
    },
    {
      "cell_type": "code",
      "metadata": {
        "colab": {
          "base_uri": "https://localhost:8080/"
        },
        "id": "mStQlKxssbls",
        "outputId": "aab7375e-f6a3-4130-ba12-d8a599a4cdc2"
      },
      "source": [
        "#알고리즘수업 #휴식을위하여 #피타고라스 정리 #원지름\n",
        "a,b,R = map(int,input().split())\n",
        "n = int(input())\n",
        "\n",
        "for _ in range(n):\n",
        "  x_i,y_i = map(int,input().split())\n",
        "  print('조용해~' if (x_i-a)**2 + (y_i-b)**2 >= R**2 else '시끄러!!!')"
      ],
      "execution_count": null,
      "outputs": [
        {
          "output_type": "stream",
          "text": [
            "50 50 100\n",
            "4\n",
            "0 0\n",
            "시끄러!!!\n",
            "0 100\n",
            "시끄러!!!\n",
            "100 0\n",
            "시끄러!!!\n",
            "100 0\n",
            "시끄러!!!\n"
          ],
          "name": "stdout"
        }
      ]
    },
    {
      "cell_type": "code",
      "metadata": {
        "colab": {
          "base_uri": "https://localhost:8080/"
        },
        "id": "sU1kK9qxPd-A",
        "outputId": "ad9b2148-6679-4f8e-ac21-f9fe2ebab717"
      },
      "source": [
        "#토너먼트 팀짜기\n",
        "import random\n",
        "\n",
        "team = list(range(1,9))\n",
        "\n",
        "for _ in range(4):\n",
        "  team1=team2=0\n",
        "\n",
        "  team1 = random.choice(team)\n",
        "  team.remove(team1)\n",
        "  team2 = random.choice(team)\n",
        "  team.remove(team2)\n",
        "\n",
        "  print(team1,team2)\n",
        "  \n",
        "  "
      ],
      "execution_count": null,
      "outputs": [
        {
          "output_type": "stream",
          "text": [
            "1 2\n",
            "8 6\n",
            "5 7\n",
            "3 4\n"
          ],
          "name": "stdout"
        }
      ]
    },
    {
      "cell_type": "code",
      "metadata": {
        "colab": {
          "base_uri": "https://localhost:8080/"
        },
        "id": "tm4l1zQCRe_d",
        "outputId": "d21740d4-2d13-4a67-a753-de47e88afe03"
      },
      "source": [
        "#토너먼트 팀짜기\n",
        "import random\n",
        "\n",
        "team = list(range(1,9))\n",
        "\n",
        "random.shuffle(team)\n",
        "\n",
        "for i in range(0,8,2):\n",
        "  print(team[i:i+2])"
      ],
      "execution_count": null,
      "outputs": [
        {
          "output_type": "stream",
          "text": [
            "[8, 4, 3, 6, 1, 2, 7, 5]\n",
            "[8, 4]\n",
            "[3, 6]\n",
            "[1, 2]\n",
            "[7, 5]\n"
          ],
          "name": "stdout"
        }
      ]
    },
    {
      "cell_type": "code",
      "metadata": {
        "colab": {
          "base_uri": "https://localhost:8080/"
        },
        "id": "I29VLVXFbLnQ",
        "outputId": "699c1214-8d13-4661-cdcd-4c83341985e7"
      },
      "source": [
        "#twoSum\n",
        "\n",
        "def solution(nums,target):\n",
        "  for i in range(len(nums)):\n",
        "    for j in range(i+1):\n",
        "      if nums[i] + nums [j]==target:\n",
        "        print(i,j)\n",
        "        \n",
        "\n",
        "solution([1,2,3,4],6)"
      ],
      "execution_count": null,
      "outputs": [
        {
          "output_type": "stream",
          "text": [
            "2 2\n",
            "3 1\n"
          ],
          "name": "stdout"
        }
      ]
    },
    {
      "cell_type": "code",
      "metadata": {
        "colab": {
          "base_uri": "https://localhost:8080/"
        },
        "id": "rNJhE-OIcK9o",
        "outputId": "203ea329-f34c-46c4-d8f5-f0695900513c"
      },
      "source": [
        "#알고리즘수업 #약수구하기\n",
        "num = int(input())\n",
        "yak = []\n",
        "for i in range(1,int(num**(1/2))):\n",
        "  if num%i==0:\n",
        "    yak.append(i)\n",
        "    yak.append(num//i)\n",
        "\n",
        "print(sorted(list(set(yak))))"
      ],
      "execution_count": null,
      "outputs": [
        {
          "output_type": "stream",
          "text": [
            "50\n",
            "[1, 2, 5, 10, 25, 50]\n"
          ],
          "name": "stdout"
        }
      ]
    },
    {
      "cell_type": "code",
      "metadata": {
        "colab": {
          "base_uri": "https://localhost:8080/"
        },
        "id": "RbCd8IkDgV-T",
        "outputId": "5b56a0b1-43b4-4c88-f85b-a905bb473e1d"
      },
      "source": [
        "#알고리즘수업 #내림차순정렬\n",
        "nums = list(map(int,input().split()))\n",
        "answer_list = []\n",
        "max_num = nums[0]\n",
        "\n",
        "\n",
        "for i in range(len(nums)):\n",
        "  for i in nums:\n",
        "    if i > max_num:\n",
        "      max_num = i\n",
        "\n",
        "  if len(nums) > 1:\n",
        "    answer_list.append(max_num)\n",
        "    nums.remove(max_num)\n",
        "    max_num = nums[0]\n",
        "  else:\n",
        "    answer_list.append(nums[0])\n",
        "\n",
        "print(answer_list)\n"
      ],
      "execution_count": null,
      "outputs": [
        {
          "output_type": "stream",
          "text": [
            "1 50 64 10 20\n",
            "[64, 50, 20, 10, 1]\n"
          ],
          "name": "stdout"
        }
      ]
    },
    {
      "cell_type": "code",
      "metadata": {
        "colab": {
          "base_uri": "https://localhost:8080/"
        },
        "id": "OcWDJx4CqWnc",
        "outputId": "8af193cd-7e91-440a-f674-a06afb750f5b"
      },
      "source": [
        "#알고리즘수업 #최대값,최소값 구하기\n",
        "nums = list(map(int,input().split()))\n",
        "\n",
        "max_num = nums[0]\n",
        "min_num = nums[1]\n",
        "\n",
        "for num in nums:\n",
        "  if num > max_num:\n",
        "    max_num = num\n",
        "  if num < min_num:\n",
        "    min_num = num\n",
        "\n",
        "print(max_num,min_num)"
      ],
      "execution_count": null,
      "outputs": [
        {
          "output_type": "stream",
          "text": [
            "10 20 30\n",
            "30 10\n"
          ],
          "name": "stdout"
        }
      ]
    },
    {
      "cell_type": "code",
      "metadata": {
        "colab": {
          "base_uri": "https://localhost:8080/"
        },
        "id": "PC6VY3FoG2G2",
        "outputId": "ef5f4d8a-7469-4d01-c67e-f5e88013e523"
      },
      "source": [
        "#1712 손익분기점 _ 런타임에러\n",
        "A,B,C = map(int,input().split())\n",
        "\n",
        "break_even_point = (A//(C-B)+1)\n",
        "\n",
        "print(break_even_point) if break_even_point > 0 else print(-1)"
      ],
      "execution_count": null,
      "outputs": [
        {
          "output_type": "stream",
          "text": [
            "2100000000 9 10\n",
            "2100000001\n"
          ],
          "name": "stdout"
        }
      ]
    },
    {
      "cell_type": "code",
      "metadata": {
        "colab": {
          "base_uri": "https://localhost:8080/"
        },
        "id": "XaNuVd27JZrt",
        "outputId": "d0ef0cb9-3472-413f-e8cc-9e469849371b"
      },
      "source": [
        "#1712 손익분기점\n",
        "A,B,C = map(int,input().split())\n",
        "\n",
        "print(int(A//(C-B)+1)) if B<C else print(-1)"
      ],
      "execution_count": null,
      "outputs": [
        {
          "output_type": "stream",
          "text": [
            "3 2 1\n",
            "-1\n"
          ],
          "name": "stdout"
        }
      ]
    },
    {
      "cell_type": "code",
      "metadata": {
        "colab": {
          "base_uri": "https://localhost:8080/"
        },
        "id": "Du2PX256QBS-",
        "outputId": "73ec4349-ea93-4d03-af00-daedc6736f8f"
      },
      "source": [
        "#2292 벌집\n",
        "target = int(input())\n",
        "\n",
        "address = 1\n",
        "area = 1\n",
        "\n",
        "while target > address:\n",
        "  address += area*6\n",
        "  area += 1\n",
        "\n",
        "print(area)"
      ],
      "execution_count": null,
      "outputs": [
        {
          "output_type": "stream",
          "text": [
            "61\n",
            "5\n"
          ],
          "name": "stdout"
        }
      ]
    },
    {
      "cell_type": "code",
      "metadata": {
        "colab": {
          "base_uri": "https://localhost:8080/"
        },
        "id": "Ph6iwvDrFRn9",
        "outputId": "a2e49be6-b07a-4dcb-e51f-bc3b4670646c"
      },
      "source": [
        "#1193 분수찾기\n",
        "target = int(input())\n",
        "\n",
        "address = 0\n",
        "step = 1\n",
        "\n",
        "#target의 구역찾기\n",
        "#target의 값이 해당 area의 몇번째 자리인지\n",
        "#target이 속하는 area는 step-1값\n",
        "while target > address:\n",
        "  address += step\n",
        "  step += 1\n",
        "\n",
        "turn = address - target\n",
        "area = step-1\n",
        "\n",
        "#area의 홀짝여부에 따른 위치탐색\n",
        "if area % 2 == 0:\n",
        "  x_i, y_i = area,1\n",
        "  for _ in range(1,turn+1):\n",
        "    x_i -= 1\n",
        "    y_i += 1\n",
        "else:\n",
        "  x_i, y_i = 1,area\n",
        "  for _ in range(1,turn+1):\n",
        "    x_i += 1\n",
        "    y_i -= 1\n",
        "\n",
        "print(f'{x_i}/{y_i}')"
      ],
      "execution_count": null,
      "outputs": [
        {
          "output_type": "stream",
          "text": [
            "25\n",
            "4/4\n"
          ],
          "name": "stdout"
        }
      ]
    },
    {
      "cell_type": "code",
      "metadata": {
        "colab": {
          "base_uri": "https://localhost:8080/"
        },
        "id": "dhD2C8rwSX1m",
        "outputId": "7f5300be-5f97-46ac-f70b-09186ff1d4cf"
      },
      "source": [
        "#1193 분수찾기\n",
        "N = int(input())\n",
        "line = 1\n",
        "\n",
        "while N > line:\n",
        "  N -= line\n",
        "  line += 1\n",
        "\n",
        "if line % 2 == 0:\n",
        "  x = N\n",
        "  y = line - N + 1\n",
        "else:\n",
        "  x = line - N + 1\n",
        "  y = N\n",
        "\n",
        "print(f'{x}/{y}')"
      ],
      "execution_count": null,
      "outputs": [
        {
          "output_type": "stream",
          "text": [
            "15\n",
            "1/5\n"
          ],
          "name": "stdout"
        }
      ]
    },
    {
      "cell_type": "code",
      "metadata": {
        "colab": {
          "base_uri": "https://localhost:8080/"
        },
        "id": "H5wS8w28VzTM",
        "outputId": "73a3c82f-e1c1-495b-d700-a57f186849da"
      },
      "source": [
        "#2869 달팽이는 올라가고 싶다\n",
        "import math\n",
        "\n",
        "A, B, V = map(int,input().split())\n",
        "\n",
        "print( (V-A-1) // (A-B) + 2)"
      ],
      "execution_count": null,
      "outputs": [
        {
          "output_type": "stream",
          "text": [
            "5 1 6\n",
            "1\n"
          ],
          "name": "stdout"
        }
      ]
    },
    {
      "cell_type": "code",
      "metadata": {
        "colab": {
          "base_uri": "https://localhost:8080/"
        },
        "id": "Vu5rQBSevPUC",
        "outputId": "17dd562b-b44a-4755-eaf7-c73b9b0af07a"
      },
      "source": [
        "#10250 ACM호텔\n",
        "cycle = int(input())\n",
        "\n",
        "for _ in range(cycle):\n",
        "  H, W, N = map(int,input().split())\n",
        "\n",
        "  a,b = divmod(N,H)\n",
        "  if b == 0:\n",
        "    print( (H*100) + a)\n",
        "  elif a == 0:\n",
        "    print( (N*100) + 1)\n",
        "  else:     \n",
        "    print( (b*100) + (a+1) )\n"
      ],
      "execution_count": null,
      "outputs": [
        {
          "output_type": "stream",
          "text": [
            "6\n",
            "6 6 1\n",
            "101\n",
            "6 6 6\n",
            "601\n",
            "6 6 7\n",
            "102\n",
            "6 6 12\n",
            "602\n",
            "6 6 35\n",
            "506\n",
            "6 6 36\n",
            "606\n"
          ],
          "name": "stdout"
        }
      ]
    },
    {
      "cell_type": "code",
      "metadata": {
        "colab": {
          "base_uri": "https://localhost:8080/"
        },
        "id": "UBBlfIlXuke5",
        "outputId": "61bea2f4-1460-4991-fa86-0eeccf5c0c35"
      },
      "source": [
        "#10757 큰수A+B\n",
        "print(sum(map(int,input().split())))"
      ],
      "execution_count": null,
      "outputs": [
        {
          "output_type": "stream",
          "text": [
            "10 10\n",
            "20\n"
          ],
          "name": "stdout"
        }
      ]
    },
    {
      "cell_type": "code",
      "metadata": {
        "colab": {
          "base_uri": "https://localhost:8080/"
        },
        "id": "e462QbwiXADo",
        "outputId": "20ef57d1-4d38-4e7d-eb20-007be977f5f2"
      },
      "source": [
        "#프로그래머스 #약수의개수와덧셈\n",
        "def solution(left,right):\n",
        "\n",
        "  answer = 0\n",
        "\n",
        "  for num in range(left,right+1):\n",
        "    \n",
        "    yak_list = []\n",
        "    \n",
        "    for j in range(1,num+1):\n",
        "      if num%j == 0:\n",
        "        yak_list.append(j)\n",
        "      \n",
        "    if len(yak_list) % 2 == 0:\n",
        "      answer += num\n",
        "    else:\n",
        "      answer -= num\n",
        "\n",
        "  return answer\n",
        "\n",
        "solution(13,17)"
      ],
      "execution_count": null,
      "outputs": [
        {
          "output_type": "execute_result",
          "data": {
            "text/plain": [
              "43"
            ]
          },
          "metadata": {
            "tags": []
          },
          "execution_count": 21
        }
      ]
    },
    {
      "cell_type": "code",
      "metadata": {
        "colab": {
          "base_uri": "https://localhost:8080/"
        },
        "id": "FmYa9T2Vi6RO",
        "outputId": "41789429-a4db-4fd5-fe06-de5e3c222181"
      },
      "source": [
        "#프로그래머스 #약수의개수와덧셈 #이상적풀이\n",
        "def solution(left,right):\n",
        "  answer = 0\n",
        "\n",
        "  for num in range(left,right+1):\n",
        "    if int(num**0.5) == num**0.5:\n",
        "      answer -= num\n",
        "    else:\n",
        "      answer += num\n",
        "  return answer\n",
        "\n",
        "solution(13,17)"
      ],
      "execution_count": null,
      "outputs": [
        {
          "output_type": "execute_result",
          "data": {
            "text/plain": [
              "43"
            ]
          },
          "metadata": {
            "tags": []
          },
          "execution_count": 30
        }
      ]
    },
    {
      "cell_type": "code",
      "metadata": {
        "id": "Tgmf0-cAkxtO",
        "colab": {
          "base_uri": "https://localhost:8080/"
        },
        "outputId": "ed21f680-f2b9-4888-a62c-a123bdd5f0b3"
      },
      "source": [
        "#프로그래머스 #로또의 최고순위와 최저순위\n",
        "def solution(lottos, win_nums):\n",
        "  \n",
        "  score = [6,6,5,4,3,2,1]  \n",
        "\n",
        "  lotto_cnt = 0\n",
        "  zero_cnt = lottos.count(0)\n",
        "\n",
        "  for num in lottos:\n",
        "    if num in win_nums:\n",
        "      lotto_cnt += 1\n",
        "  \n",
        "  return [score[lotto_cnt+zero_cnt],score[lotto_cnt]]\n",
        "\n",
        "solution([0,0,0,0,0,0],[31, 10, 45, 1, 6, 19])"
      ],
      "execution_count": null,
      "outputs": [
        {
          "output_type": "execute_result",
          "data": {
            "text/plain": [
              "[1, 6]"
            ]
          },
          "metadata": {
            "tags": []
          },
          "execution_count": 59
        }
      ]
    },
    {
      "cell_type": "code",
      "metadata": {
        "colab": {
          "base_uri": "https://localhost:8080/",
          "height": 35
        },
        "id": "4fO1rULb32eG",
        "outputId": "bade6b89-dadc-4501-cbb9-c2af4c1cc445"
      },
      "source": [
        "#프로그래머스 #신규아이디추천\n",
        "def solution(new_id):\n",
        "\n",
        "  rule = '.-_'\n",
        "  new_answer = ''\n",
        "\n",
        "  #대문자 -> 소문자 치환\n",
        "  answer = new_id.lower()\n",
        "\n",
        "  #조건에 부합하지 않는 문자 제거\n",
        "  for value in answer:\n",
        "    if value.isalpha() or value.isdigit() or (value in rule):\n",
        "      new_answer += value\n",
        "  answer = new_answer\n",
        "\n",
        "  # 마침표(.)가 연속으로 등장한 부분 마침표(.)한개로 변환\n",
        "  while '..' in answer:\n",
        "    answer = answer.replace('..','.')\n",
        "\n",
        "  # 마침표(.)위치가 처음이나 끝 이라면 제거\n",
        "  if len(answer) > 2:\n",
        "    if answer[0] == '.':\n",
        "      answer = answer[1:]\n",
        "    if answer[-1] == '.':\n",
        "      answer = answer[:-1]\n",
        "  else:\n",
        "    if answer[0] == '.':\n",
        "      answer = ''\n",
        "\n",
        "  # new_id의 길이가 16이상이라면 앞에서부터 15글자 제외한 문자를 제거 \n",
        "  if len(answer) >= 16:\n",
        "    answer = answer[:15]\n",
        "\n",
        "  # new_id가 빈 문자열이라면 'a' 대입.\n",
        "  if len(answer) == 0:\n",
        "    answer = 'a'\n",
        "\n",
        "  # 제거후 마지막 글자가 마침표(.)라면 제거 \n",
        "  if answer[-1] == '.':\n",
        "    answer = answer[:-1]\n",
        "      \n",
        "  # new_id의 길이가 2글자 이하라면 new_id의 마지막 문자를 길이가 3이 될때까지 붙여준다  \n",
        "  while len(answer)<3:\n",
        "    answer += answer[-1]\n",
        "    \n",
        "  return answer\n",
        "\n",
        "solution(\"....!@BaT#*..y.abcdefghijDDDDklm\")\n"
      ],
      "execution_count": null,
      "outputs": [
        {
          "output_type": "execute_result",
          "data": {
            "application/vnd.google.colaboratory.intrinsic+json": {
              "type": "string"
            },
            "text/plain": [
              "'bat.y.abcdefghi'"
            ]
          },
          "metadata": {
            "tags": []
          },
          "execution_count": 41
        }
      ]
    },
    {
      "cell_type": "code",
      "metadata": {
        "colab": {
          "base_uri": "https://localhost:8080/",
          "height": 35
        },
        "id": "kKbnpadsWndl",
        "outputId": "71ab6798-2797-426a-9bbf-1200037bc68e"
      },
      "source": [
        "#프로그래머스 #신규아이디추천 #정규표현식\n",
        "import re\n",
        "\n",
        "def solution(id):\n",
        "  #1단계\n",
        "  id = id.lower()\n",
        "\n",
        "  #2단계\n",
        "  id = re.sub('[^a-z0-9\\-_.]','', id)\n",
        "\n",
        "  #3단계\n",
        "  id = re.sub('\\.+','.',id)\n",
        "\n",
        "  #4단계\n",
        "  id = id.strip('.')\n",
        "\n",
        "  #5단계,6단계 (글자길이 0 일때 a 삽입 및 글자수 15글자 제한)\n",
        "  id = 'a' if len(id) == 0 else id[:15]\n",
        "\n",
        "  #6단계( 끝 마침표(.)제거 )\n",
        "  id = id.strip('.')\n",
        "\n",
        "  #7단계\n",
        "  while len(id) < 3 : id += id[-1]\n",
        "\n",
        "  return id\n",
        "\n",
        "solution(\"....!@BaT#*..y.abcdefghijDDDDklm\")"
      ],
      "execution_count": null,
      "outputs": [
        {
          "output_type": "execute_result",
          "data": {
            "application/vnd.google.colaboratory.intrinsic+json": {
              "type": "string"
            },
            "text/plain": [
              "'bat.y.abcdefghi'"
            ]
          },
          "metadata": {
            "tags": []
          },
          "execution_count": 40
        }
      ]
    },
    {
      "cell_type": "code",
      "metadata": {
        "colab": {
          "base_uri": "https://localhost:8080/"
        },
        "id": "oTmSw7lvwspK",
        "outputId": "27abaab4-099d-4c35-a9a2-eb12300faf50"
      },
      "source": [
        "#프로그래머스 #크레인인형뽑기게임\n",
        "\n",
        "def solution(board, moves):\n",
        "  basket = []\n",
        "  cnt = 0\n",
        "\n",
        "  for pick in moves:#-----------------move에 담긴 value 가져옴\n",
        "        for area in board:#-----------board 가로줄 스캔\n",
        "\n",
        "        if area[pick-1] != 0:#--------해당 가로줄의 pick-1 번째가 0이 아닐 경우\n",
        "          basket.append(area[pick-1])#[pick-1]인형 stack에 넣고 인형 0으로 바꿈\n",
        "          area[pick-1] = 0\n",
        "\n",
        "        if len(basket) > 1:#----------stack길이가 1이상 일때 같은 인형 삭제\n",
        "          if basket[-1] == basket[-2]:\n",
        "            cnt += 2#-----------------인형은 2개씩 터짐\n",
        "            del basket[-2:]#----------끝에서 2개 삭제\n",
        "        break\n",
        "\n",
        "  return cnt\n",
        "\n",
        "solution([[0, 0, 1, 0, 0],  \n",
        "          [0, 0, 1, 0, 0],\n",
        "          [0, 2, 1, 0, 0],\n",
        "          [0, 2, 1, 0, 0],\n",
        "          [0, 2, 1, 0, 0]],\n",
        "          [1, 2, 3, 3, 2, 3, 1]\n",
        "          )"
      ],
      "execution_count": null,
      "outputs": [
        {
          "output_type": "execute_result",
          "data": {
            "text/plain": [
              "4"
            ]
          },
          "metadata": {
            "tags": []
          },
          "execution_count": 90
        }
      ]
    },
    {
      "cell_type": "code",
      "metadata": {
        "colab": {
          "base_uri": "https://localhost:8080/"
        },
        "id": "JkeO_yOwZt0d",
        "outputId": "49895763-93f0-4bb6-f3ef-b0fc8cc4fe64"
      },
      "source": [
        "#알고리즘수업 #스택문제 #append, pop만 사용\n",
        "def stack_solution(command):\n",
        "  cycle = 0\n",
        "  com = 0\n",
        "  num = 0\n",
        "  cnt = 0\n",
        "\n",
        "  #stack의 길이 구하기\n",
        "  if stack:\n",
        "    for _ in stack:\n",
        "      cnt += 1\n",
        "      stack_cnt = cnt\n",
        "  else:\n",
        "    stack_cnt = 0\n",
        "  #push\n",
        "  if command[0] == 'push':\n",
        "    stack.append(command[1])\n",
        "  #pop\n",
        "  elif command[0] == 'pop':\n",
        "    print(stack.pop()) if stack_cnt else print(-1)\n",
        "  #size\n",
        "  elif command[0] == 'size':\n",
        "    print(stack_cnt)\n",
        "  #empty\n",
        "  elif command[0] == 'empty':\n",
        "    print(0 if stack_cnt else 1)\n",
        "  #top\n",
        "  elif command[0] == 'top':\n",
        "    print(stack[stack_cnt-1]) if stack_cnt else print(-1)\n",
        "    \n",
        "n = int(input())\n",
        "stack = []\n",
        "\n",
        "for _ in range(n):\n",
        "  command = input().split(' ')\n",
        "  stack_solution(command)"
      ],
      "execution_count": null,
      "outputs": [
        {
          "output_type": "stream",
          "text": [
            "3\n",
            "push 1\n",
            "push 2\n",
            "top\n",
            "2\n"
          ],
          "name": "stdout"
        }
      ]
    },
    {
      "cell_type": "code",
      "metadata": {
        "colab": {
          "base_uri": "https://localhost:8080/",
          "height": 809
        },
        "id": "xq7qppZ6ctv3",
        "outputId": "91aa5ded-24f0-44f9-d316-b054f969c992"
      },
      "source": [
        "#알고리즘수업 #스택문제 #append,pop 사용불가\n",
        "\n",
        "def stack_solution(command,stack):\n",
        "  cnt = 0\n",
        "\n",
        "  #stack의 길이 구하기\n",
        "  if stack:\n",
        "    for _ in stack:\n",
        "      cnt += 1\n",
        "      stack_cnt = cnt\n",
        "  else:\n",
        "    stack_cnt = 0\n",
        "\n",
        "  #push\n",
        "  if command[0] == 'push':\n",
        "    stack += list(command[1])\n",
        "  #pop\n",
        "  elif command[0] == 'pop':\n",
        "    if not(stack):\n",
        "      print(-1)\n",
        "    elif stack_cnt == 1:\n",
        "      print(stack[0])\n",
        "      stack = []\n",
        "      return stack\n",
        "    else:\n",
        "      print(stack[stack_cnt-1])\n",
        "      stack = stack[:stack_cnt-1]\n",
        "      print(stack)\n",
        "      return stack\n",
        "  #size\n",
        "  elif command[0] == 'size':\n",
        "    print(stack_cnt)\n",
        "  #empty\n",
        "  elif command[0] == 'empty':\n",
        "    print(0 if stack_cnt else 1)\n",
        "  #top\n",
        "  elif command[0] == 'top':\n",
        "    print(stack[stack_cnt-1]) if stack_cnt else print(-1)\n",
        "    \n",
        "n = int(input())\n",
        "global stack\n",
        "stack = []\n",
        "\n",
        "for _ in range(n):\n",
        "  command = input().split(' ')\n",
        "  stack_solution(command,stack)\n",
        "  print('i',stack)"
      ],
      "execution_count": null,
      "outputs": [
        {
          "output_type": "stream",
          "text": [
            "14\n",
            "push 1\n",
            "i ['1']\n",
            "push 2\n",
            "i ['1', '2']\n",
            "pop\n",
            "2\n",
            "['1']\n",
            "i ['1', '2']\n",
            "pop\n",
            "2\n",
            "['1']\n",
            "i ['1', '2']\n"
          ],
          "name": "stdout"
        },
        {
          "output_type": "error",
          "ename": "KeyboardInterrupt",
          "evalue": "ignored",
          "traceback": [
            "\u001b[0;31m---------------------------------------------------------------------------\u001b[0m",
            "\u001b[0;31mKeyboardInterrupt\u001b[0m                         Traceback (most recent call last)",
            "\u001b[0;32m/usr/local/lib/python3.7/dist-packages/ipykernel/kernelbase.py\u001b[0m in \u001b[0;36m_input_request\u001b[0;34m(self, prompt, ident, parent, password)\u001b[0m\n\u001b[1;32m    728\u001b[0m             \u001b[0;32mtry\u001b[0m\u001b[0;34m:\u001b[0m\u001b[0;34m\u001b[0m\u001b[0;34m\u001b[0m\u001b[0m\n\u001b[0;32m--> 729\u001b[0;31m                 \u001b[0mident\u001b[0m\u001b[0;34m,\u001b[0m \u001b[0mreply\u001b[0m \u001b[0;34m=\u001b[0m \u001b[0mself\u001b[0m\u001b[0;34m.\u001b[0m\u001b[0msession\u001b[0m\u001b[0;34m.\u001b[0m\u001b[0mrecv\u001b[0m\u001b[0;34m(\u001b[0m\u001b[0mself\u001b[0m\u001b[0;34m.\u001b[0m\u001b[0mstdin_socket\u001b[0m\u001b[0;34m,\u001b[0m \u001b[0;36m0\u001b[0m\u001b[0;34m)\u001b[0m\u001b[0;34m\u001b[0m\u001b[0;34m\u001b[0m\u001b[0m\n\u001b[0m\u001b[1;32m    730\u001b[0m             \u001b[0;32mexcept\u001b[0m \u001b[0mException\u001b[0m\u001b[0;34m:\u001b[0m\u001b[0;34m\u001b[0m\u001b[0;34m\u001b[0m\u001b[0m\n",
            "\u001b[0;32m/usr/local/lib/python3.7/dist-packages/jupyter_client/session.py\u001b[0m in \u001b[0;36mrecv\u001b[0;34m(self, socket, mode, content, copy)\u001b[0m\n\u001b[1;32m    802\u001b[0m         \u001b[0;32mtry\u001b[0m\u001b[0;34m:\u001b[0m\u001b[0;34m\u001b[0m\u001b[0;34m\u001b[0m\u001b[0m\n\u001b[0;32m--> 803\u001b[0;31m             \u001b[0mmsg_list\u001b[0m \u001b[0;34m=\u001b[0m \u001b[0msocket\u001b[0m\u001b[0;34m.\u001b[0m\u001b[0mrecv_multipart\u001b[0m\u001b[0;34m(\u001b[0m\u001b[0mmode\u001b[0m\u001b[0;34m,\u001b[0m \u001b[0mcopy\u001b[0m\u001b[0;34m=\u001b[0m\u001b[0mcopy\u001b[0m\u001b[0;34m)\u001b[0m\u001b[0;34m\u001b[0m\u001b[0;34m\u001b[0m\u001b[0m\n\u001b[0m\u001b[1;32m    804\u001b[0m         \u001b[0;32mexcept\u001b[0m \u001b[0mzmq\u001b[0m\u001b[0;34m.\u001b[0m\u001b[0mZMQError\u001b[0m \u001b[0;32mas\u001b[0m \u001b[0me\u001b[0m\u001b[0;34m:\u001b[0m\u001b[0;34m\u001b[0m\u001b[0;34m\u001b[0m\u001b[0m\n",
            "\u001b[0;32m/usr/local/lib/python3.7/dist-packages/zmq/sugar/socket.py\u001b[0m in \u001b[0;36mrecv_multipart\u001b[0;34m(self, flags, copy, track)\u001b[0m\n\u001b[1;32m    582\u001b[0m         \"\"\"\n\u001b[0;32m--> 583\u001b[0;31m         \u001b[0mparts\u001b[0m \u001b[0;34m=\u001b[0m \u001b[0;34m[\u001b[0m\u001b[0mself\u001b[0m\u001b[0;34m.\u001b[0m\u001b[0mrecv\u001b[0m\u001b[0;34m(\u001b[0m\u001b[0mflags\u001b[0m\u001b[0;34m,\u001b[0m \u001b[0mcopy\u001b[0m\u001b[0;34m=\u001b[0m\u001b[0mcopy\u001b[0m\u001b[0;34m,\u001b[0m \u001b[0mtrack\u001b[0m\u001b[0;34m=\u001b[0m\u001b[0mtrack\u001b[0m\u001b[0;34m)\u001b[0m\u001b[0;34m]\u001b[0m\u001b[0;34m\u001b[0m\u001b[0;34m\u001b[0m\u001b[0m\n\u001b[0m\u001b[1;32m    584\u001b[0m         \u001b[0;31m# have first part already, only loop while more to receive\u001b[0m\u001b[0;34m\u001b[0m\u001b[0;34m\u001b[0m\u001b[0;34m\u001b[0m\u001b[0m\n",
            "\u001b[0;32mzmq/backend/cython/socket.pyx\u001b[0m in \u001b[0;36mzmq.backend.cython.socket.Socket.recv\u001b[0;34m()\u001b[0m\n",
            "\u001b[0;32mzmq/backend/cython/socket.pyx\u001b[0m in \u001b[0;36mzmq.backend.cython.socket.Socket.recv\u001b[0;34m()\u001b[0m\n",
            "\u001b[0;32mzmq/backend/cython/socket.pyx\u001b[0m in \u001b[0;36mzmq.backend.cython.socket._recv_copy\u001b[0;34m()\u001b[0m\n",
            "\u001b[0;32m/usr/local/lib/python3.7/dist-packages/zmq/backend/cython/checkrc.pxd\u001b[0m in \u001b[0;36mzmq.backend.cython.checkrc._check_rc\u001b[0;34m()\u001b[0m\n",
            "\u001b[0;31mKeyboardInterrupt\u001b[0m: ",
            "\nDuring handling of the above exception, another exception occurred:\n",
            "\u001b[0;31mKeyboardInterrupt\u001b[0m                         Traceback (most recent call last)",
            "\u001b[0;32m<ipython-input-47-87cb734915bb>\u001b[0m in \u001b[0;36m<module>\u001b[0;34m()\u001b[0m\n\u001b[1;32m     43\u001b[0m \u001b[0;34m\u001b[0m\u001b[0m\n\u001b[1;32m     44\u001b[0m \u001b[0;32mfor\u001b[0m \u001b[0m_\u001b[0m \u001b[0;32min\u001b[0m \u001b[0mrange\u001b[0m\u001b[0;34m(\u001b[0m\u001b[0mn\u001b[0m\u001b[0;34m)\u001b[0m\u001b[0;34m:\u001b[0m\u001b[0;34m\u001b[0m\u001b[0;34m\u001b[0m\u001b[0m\n\u001b[0;32m---> 45\u001b[0;31m   \u001b[0mcommand\u001b[0m \u001b[0;34m=\u001b[0m \u001b[0minput\u001b[0m\u001b[0;34m(\u001b[0m\u001b[0;34m)\u001b[0m\u001b[0;34m.\u001b[0m\u001b[0msplit\u001b[0m\u001b[0;34m(\u001b[0m\u001b[0;34m' '\u001b[0m\u001b[0;34m)\u001b[0m\u001b[0;34m\u001b[0m\u001b[0;34m\u001b[0m\u001b[0m\n\u001b[0m\u001b[1;32m     46\u001b[0m   \u001b[0mstack_solution\u001b[0m\u001b[0;34m(\u001b[0m\u001b[0mcommand\u001b[0m\u001b[0;34m,\u001b[0m\u001b[0mstack\u001b[0m\u001b[0;34m)\u001b[0m\u001b[0;34m\u001b[0m\u001b[0;34m\u001b[0m\u001b[0m\n\u001b[1;32m     47\u001b[0m   \u001b[0mprint\u001b[0m\u001b[0;34m(\u001b[0m\u001b[0;34m'i'\u001b[0m\u001b[0;34m,\u001b[0m\u001b[0mstack\u001b[0m\u001b[0;34m)\u001b[0m\u001b[0;34m\u001b[0m\u001b[0;34m\u001b[0m\u001b[0m\n",
            "\u001b[0;32m/usr/local/lib/python3.7/dist-packages/ipykernel/kernelbase.py\u001b[0m in \u001b[0;36mraw_input\u001b[0;34m(self, prompt)\u001b[0m\n\u001b[1;32m    702\u001b[0m             \u001b[0mself\u001b[0m\u001b[0;34m.\u001b[0m\u001b[0m_parent_ident\u001b[0m\u001b[0;34m,\u001b[0m\u001b[0;34m\u001b[0m\u001b[0;34m\u001b[0m\u001b[0m\n\u001b[1;32m    703\u001b[0m             \u001b[0mself\u001b[0m\u001b[0;34m.\u001b[0m\u001b[0m_parent_header\u001b[0m\u001b[0;34m,\u001b[0m\u001b[0;34m\u001b[0m\u001b[0;34m\u001b[0m\u001b[0m\n\u001b[0;32m--> 704\u001b[0;31m             \u001b[0mpassword\u001b[0m\u001b[0;34m=\u001b[0m\u001b[0;32mFalse\u001b[0m\u001b[0;34m,\u001b[0m\u001b[0;34m\u001b[0m\u001b[0;34m\u001b[0m\u001b[0m\n\u001b[0m\u001b[1;32m    705\u001b[0m         )\n\u001b[1;32m    706\u001b[0m \u001b[0;34m\u001b[0m\u001b[0m\n",
            "\u001b[0;32m/usr/local/lib/python3.7/dist-packages/ipykernel/kernelbase.py\u001b[0m in \u001b[0;36m_input_request\u001b[0;34m(self, prompt, ident, parent, password)\u001b[0m\n\u001b[1;32m    732\u001b[0m             \u001b[0;32mexcept\u001b[0m \u001b[0mKeyboardInterrupt\u001b[0m\u001b[0;34m:\u001b[0m\u001b[0;34m\u001b[0m\u001b[0;34m\u001b[0m\u001b[0m\n\u001b[1;32m    733\u001b[0m                 \u001b[0;31m# re-raise KeyboardInterrupt, to truncate traceback\u001b[0m\u001b[0;34m\u001b[0m\u001b[0;34m\u001b[0m\u001b[0;34m\u001b[0m\u001b[0m\n\u001b[0;32m--> 734\u001b[0;31m                 \u001b[0;32mraise\u001b[0m \u001b[0mKeyboardInterrupt\u001b[0m\u001b[0;34m\u001b[0m\u001b[0;34m\u001b[0m\u001b[0m\n\u001b[0m\u001b[1;32m    735\u001b[0m             \u001b[0;32melse\u001b[0m\u001b[0;34m:\u001b[0m\u001b[0;34m\u001b[0m\u001b[0;34m\u001b[0m\u001b[0m\n\u001b[1;32m    736\u001b[0m                 \u001b[0;32mbreak\u001b[0m\u001b[0;34m\u001b[0m\u001b[0;34m\u001b[0m\u001b[0m\n",
            "\u001b[0;31mKeyboardInterrupt\u001b[0m: "
          ]
        }
      ]
    },
    {
      "cell_type": "code",
      "metadata": {
        "colab": {
          "base_uri": "https://localhost:8080/",
          "height": 35
        },
        "id": "HH4efFQgji5k",
        "outputId": "25366363-819d-4c8a-9bcd-7358cc594846"
      },
      "source": [
        "#프로그래머스 #이상한문자\n",
        "def solution (n):\n",
        "  s_cnt = 0\n",
        "  answer = ''\n",
        "\n",
        "  for i in n:\n",
        "    if i == ' ':\n",
        "      s_cnt = 0\n",
        "    else:\n",
        "      s_cnt += 1\n",
        "\n",
        "    if s_cnt:\n",
        "      if s_cnt%2 == 1: answer += i.upper()\n",
        "      else: answer += i.lower()\n",
        "    else:\n",
        "      answer += i\n",
        "  return answer\n",
        "\n",
        "solution(\"try hello world\")"
      ],
      "execution_count": null,
      "outputs": [
        {
          "output_type": "execute_result",
          "data": {
            "application/vnd.google.colaboratory.intrinsic+json": {
              "type": "string"
            },
            "text/plain": [
              "'TrY HeLlO WoRlD'"
            ]
          },
          "metadata": {
            "tags": []
          },
          "execution_count": 26
        }
      ]
    },
    {
      "cell_type": "code",
      "metadata": {
        "colab": {
          "base_uri": "https://localhost:8080/",
          "height": 36
        },
        "id": "Z0zhpBzzIhzE",
        "outputId": "989ce267-0b23-4aba-cbdf-15850daef8fa"
      },
      "source": [
        "#프로그래머스 #키패드 누르기\n",
        "key_pad = ['*','7','4','1','0','8','5','2','#','9','6','3']#---(0,0)= *\n",
        "\n",
        "def search(n):#------------------------좌표평면 호출 함수(X,Y)\n",
        "  return key_pad.index(n)//4, key_pad.index(n)%4 \n",
        "\n",
        "def gap(a1, a2):#----------------------두 좌표 거리 호출 함수\n",
        "  return (abs(a1[0]-a2[0]) + abs(a1[1]-a2[1]))\n",
        "\n",
        "def solution(numbers, hand):\n",
        "\n",
        "  left_hand = (0,0)\n",
        "  right_hand = (2,0)\n",
        "  answer = ''\n",
        "\n",
        "  for num in numbers:\n",
        "    result = search(str(num))#-----------키패드에서 (X,Y)를 탐색해서 result에 저장\n",
        "\n",
        "    if result[0] == 0:#------------------X축이 0일때(*,7,4,1) L값 추가 / 왼손 현위치 저장\n",
        "      answer += 'L'\n",
        "      left_hand = result\n",
        "\n",
        "    elif result[0] == 2:#------------------X축이 2일때(#,9,6,3) R값 추가 / 오른손 현위치 저장\n",
        "      answer += 'R'\n",
        "      right_hand = result\n",
        "\n",
        "    elif result[0] == 1:#------------------X축이 1일때(0,8,5,2)\n",
        "      left_gap = gap(left_hand,result)#-----gap함수 이용 거리저장\n",
        "      right_gap = gap(right_hand,result)\n",
        "\n",
        "      if left_gap == right_gap:#----------거리 같을 때 왼손/오른손 잡이 판별\n",
        "        if hand == 'right':\n",
        "          answer += 'R'\n",
        "          right_hand = result\n",
        "        else:\n",
        "          answer += 'L'\n",
        "          left_hand = result\n",
        "      elif left_gap < right_gap:#-------왼손이 가까울 때\n",
        "        answer += 'L'\n",
        "        left_hand = result\n",
        "      elif right_gap < left_gap:#-------오른손이 가까울 때\n",
        "        answer += 'R'\n",
        "        right_hand = result\n",
        "\n",
        "  return answer\n",
        "\n",
        "\n",
        "# solution([1, 3, 4, 5, 8, 2, 1, 4, 5, 9, 5],\"right\")\n",
        "# solution([7, 0, 8, 2, 8, 3, 1, 5, 7, 6, 2],\"left\")\n",
        "solution([1, 2, 3, 4, 5, 6, 7, 8, 9, 0], \"right\")"
      ],
      "execution_count": null,
      "outputs": [
        {
          "output_type": "execute_result",
          "data": {
            "application/vnd.google.colaboratory.intrinsic+json": {
              "type": "string"
            },
            "text/plain": [
              "'LLRLLRLLRL'"
            ]
          },
          "metadata": {
            "tags": []
          },
          "execution_count": 93
        }
      ]
    },
    {
      "cell_type": "code",
      "metadata": {
        "colab": {
          "base_uri": "https://localhost:8080/"
        },
        "id": "2pwewyM2jkb2",
        "outputId": "42139362-94b3-4f4b-bc2a-ba3986b75639"
      },
      "source": [
        "#프로그래머스 #K번째수\n",
        "def solution(a_array, command):\n",
        "  answer = []\n",
        "\n",
        "  for com in command:\n",
        "    \n",
        "    start,end,select = com\n",
        "\n",
        "    answer.append(sorted(a_array[ start-1 : end ])[select-1])\n",
        "\n",
        "  return answer\n",
        "    \n",
        "\n",
        "solution([1, 5, 2, 6, 3, 7, 4],[[2, 5, 3], [4, 4, 1], [1, 7, 3]])"
      ],
      "execution_count": null,
      "outputs": [
        {
          "output_type": "execute_result",
          "data": {
            "text/plain": [
              "[5, 6, 3]"
            ]
          },
          "metadata": {
            "tags": []
          },
          "execution_count": 31
        }
      ]
    },
    {
      "cell_type": "code",
      "metadata": {
        "colab": {
          "base_uri": "https://localhost:8080/"
        },
        "id": "7koIkPIPF5Zr",
        "outputId": "d8a8bc60-5aa9-4059-abca-f39cee30170c"
      },
      "source": [
        "#프로그래머스 #K번째수 #lambda함수\n",
        "def solution(array,command):\n",
        "  return list(map(lambda x:sorted(array[x[0]-1 : x[1]])[x[2]-1], command))\n",
        "\n",
        "solution([1, 5, 2, 6, 3, 7, 4],[[2, 5, 3], [4, 4, 1], [1, 7, 3]])"
      ],
      "execution_count": null,
      "outputs": [
        {
          "output_type": "execute_result",
          "data": {
            "text/plain": [
              "[5, 6, 3]"
            ]
          },
          "metadata": {
            "tags": []
          },
          "execution_count": 41
        }
      ]
    },
    {
      "cell_type": "code",
      "metadata": {
        "colab": {
          "base_uri": "https://localhost:8080/"
        },
        "id": "gbd7UDOrGV3F",
        "outputId": "8a408840-c428-48f6-a0fd-9564799d2395"
      },
      "source": [
        "#프로그래머스 #3진법\n",
        "def solution(number):\n",
        "  three = \"\"\n",
        "  cycle = 0\n",
        "\n",
        "  while number > 0:\n",
        "    a1,a2 = divmod(number,3)\n",
        "    number = a1\n",
        "    three += str(a2)\n",
        "\n",
        "  return int(three,3)\n",
        "\n",
        "solution(45)"
      ],
      "execution_count": null,
      "outputs": [
        {
          "output_type": "execute_result",
          "data": {
            "text/plain": [
              "7"
            ]
          },
          "metadata": {
            "tags": []
          },
          "execution_count": 40
        }
      ]
    },
    {
      "cell_type": "code",
      "metadata": {
        "colab": {
          "base_uri": "https://localhost:8080/"
        },
        "id": "9Ol3oHhVf0WB",
        "outputId": "c4f0f4ed-a9d4-4e89-b5f3-32b3835778aa"
      },
      "source": [
        "#프로그래머스 #예산\n",
        "def solution(d, budget):\n",
        "  check = 0\n",
        "  d_list = sorted(d)\n",
        "\n",
        "\n",
        "  for idx, value in enumerate(d_list):\n",
        "\n",
        "    if sum(d_list) < budget:\n",
        "      idx = len(d_list)\n",
        "      \n",
        "    if check > budget:\n",
        "      idx -= 1\n",
        "      break\n",
        "    check += value\n",
        "\n",
        "  if check == budget:\n",
        "      idx += 1\n",
        "\n",
        "  return idx\n",
        "\n",
        "solution([1],9)\n",
        "# solution([2,2,3,3],10)"
      ],
      "execution_count": null,
      "outputs": [
        {
          "output_type": "execute_result",
          "data": {
            "text/plain": [
              "1"
            ]
          },
          "metadata": {
            "tags": []
          },
          "execution_count": 43
        }
      ]
    },
    {
      "cell_type": "code",
      "metadata": {
        "colab": {
          "base_uri": "https://localhost:8080/"
        },
        "id": "BykR4-gpHeZK",
        "outputId": "0e87e932-4ad4-435e-f16d-27405dd6ee82"
      },
      "source": [
        "#프로그래머스 #예산 # 눈물 똑똑 ㅠㅜ\n",
        "def solution(d, budget):\n",
        "  d.sort()\n",
        "\n",
        "  while budget > sum(d):\n",
        "    d.pop()\n",
        "\n",
        "  return len(d)\n",
        "\n",
        "solution([2,2,3,3],10)"
      ],
      "execution_count": null,
      "outputs": [
        {
          "output_type": "execute_result",
          "data": {
            "text/plain": [
              "5"
            ]
          },
          "metadata": {
            "tags": []
          },
          "execution_count": 45
        }
      ]
    },
    {
      "cell_type": "code",
      "metadata": {
        "colab": {
          "base_uri": "https://localhost:8080/"
        },
        "id": "yAEvz_UawQ5k",
        "outputId": "f6669df8-f484-4e3d-dd41-25e1d26e8a81"
      },
      "source": [
        "#알고리즘수업 #자료구조 #스택\n",
        "class Stack:\n",
        "    def __init__(self, n):\n",
        "        self.stack = [None for _ in range(n)]\n",
        "        self.stack_size = 0\n",
        "    \n",
        "    def push(self, num):\n",
        "        # self.stack.append(int(num))\n",
        "        self.stack[self.stack_size] = int(num)\n",
        "        self.stack_size += 1\n",
        "\n",
        "    def pop(self):\n",
        "        if self.size() > 0:\n",
        "            last_val = self.top()\n",
        "            self.stack[self.stack_size-1] = None\n",
        "            self.stack_size -= 1\n",
        "            return last_val\n",
        "            # return self.stack.pop()\n",
        "        \n",
        "        return -1\n",
        "\n",
        "    def size(self):\n",
        "        return self.stack_size\n",
        "    \n",
        "    def empty(self):\n",
        "        if self.size() > 0:\n",
        "            return 0\n",
        "        \n",
        "        return 1\n",
        "        \n",
        "        # print(int(self.stack_size <= 0))\n",
        "    \n",
        "    def top(self):\n",
        "        if self.size() > 0:\n",
        "            return self.stack[self.size()-1]\n",
        "        \n",
        "        return -1\n",
        "\n",
        "def run_with_cmd_stack(obj_stack, cmd_list):\n",
        "    cmd_type = cmd_list[0]\n",
        "    \n",
        "    if cmd_type == \"push\":\n",
        "        _, num = cmd_list\n",
        "        obj_stack.push(num)\n",
        "    elif cmd_type == \"pop\":\n",
        "        print(obj_stack.pop())\n",
        "    elif cmd_type == \"size\":\n",
        "        print(obj_stack.size())\n",
        "    elif cmd_type == \"empty\":\n",
        "        print(obj_stack.empty())\n",
        "    elif cmd_type == \"top\":\n",
        "        print(obj_stack.top())\n",
        "    \n",
        "    return obj_stack\n",
        "\n",
        "n = int(input())\n",
        "obj_stack = Stack(n)\n",
        "\n",
        "for _ in range(n):\n",
        "    # \"push 2\".split(\" \") # => [\"push\", \"2\"]\n",
        "    # \"size\".split(\" \") # => [\"size\"]\n",
        "\n",
        "    cmd_list = input().split(\" \")\n",
        "    obj_stack = run_with_cmd_stack(obj_stack, cmd_list)\n",
        "    # print(obj_stack.stack)\n",
        "    # print(obj_stack.stack_size)\n",
        "\n",
        "    # if result is not None:\n",
        "    #     stack = result\n"
      ],
      "execution_count": null,
      "outputs": [
        {
          "output_type": "stream",
          "text": [
            "3\n",
            "push 3\n",
            "top\n",
            "3\n",
            "pop\n",
            "3\n"
          ],
          "name": "stdout"
        }
      ]
    },
    {
      "cell_type": "code",
      "metadata": {
        "colab": {
          "base_uri": "https://localhost:8080/"
        },
        "id": "PUrMALyJmxQ7",
        "outputId": "1c07693d-9d0a-474f-dace-79935341c47d"
      },
      "source": [
        "#알고리즘수업 #자료구조 #큐\n",
        "class Que:\n",
        "    def __init__(self, n):\n",
        "        self.que = [None for _ in range(n)]\n",
        "        self.back_point = n\n",
        "        self.front_point = n\n",
        "\n",
        "    def push(self, num):\n",
        "        self.que[self.back_point-1] = int(num)\n",
        "        self.back_point -= 1\n",
        "    \n",
        "    def pop(self):\n",
        "      if self.size() > 0:\n",
        "        last_val = self.front()\n",
        "        self.front_point -= 1\n",
        "        return last_val\n",
        "      return -1\n",
        "\n",
        "    def size(self):\n",
        "      return self.front_point - self.back_point\n",
        "\n",
        "    def empty(self):\n",
        "      if self.size() > 0:\n",
        "        return 0\n",
        "      return 1\n",
        "\n",
        "    def back(self):\n",
        "      return self.que[self.back_point]\n",
        "\n",
        "    def front(self):\n",
        "      return self.que[self.front_point-1]\n",
        "\n",
        "\n",
        "\n",
        "def run_with_cmd_que(obj_que, cmd_list):\n",
        "    cmd_type = cmd_list[0]\n",
        "\n",
        "    if cmd_type == \"push\":\n",
        "          _, num = cmd_list\n",
        "          obj_que.push(num)\n",
        "    elif cmd_type == \"pop\":\n",
        "        print(obj_que.pop())\n",
        "    elif cmd_type == \"size\":\n",
        "        print(obj_que.size())\n",
        "    elif cmd_type == \"empty\":\n",
        "        print(obj_que.empty())\n",
        "    elif cmd_type == \"front\":\n",
        "        print(obj_que.front())\n",
        "    elif cmd_type == \"back\":\n",
        "        print(obj_que.back())\n",
        "    \n",
        "    return obj_que\n",
        "\n",
        "n = int(input())\n",
        "obj_que = Que(n)\n",
        "\n",
        "for _ in range(n):\n",
        "  cmd_list = input().split(' ')\n",
        "  obj_que = run_with_cmd_que(obj_que, cmd_list)\n",
        "  print(obj_que.que)"
      ],
      "execution_count": null,
      "outputs": [
        {
          "output_type": "stream",
          "text": [
            "15\n",
            "push 1\n",
            "[None, None, None, None, None, None, None, None, None, None, None, None, None, None, 1]\n",
            "push 2\n",
            "[None, None, None, None, None, None, None, None, None, None, None, None, None, 2, 1]\n",
            "front\n",
            "1\n",
            "[None, None, None, None, None, None, None, None, None, None, None, None, None, 2, 1]\n",
            "back\n",
            "2\n",
            "[None, None, None, None, None, None, None, None, None, None, None, None, None, 2, 1]\n",
            "size\n",
            "2\n",
            "[None, None, None, None, None, None, None, None, None, None, None, None, None, 2, 1]\n",
            "empty\n",
            "0\n",
            "[None, None, None, None, None, None, None, None, None, None, None, None, None, 2, 1]\n",
            "pop\n",
            "1\n",
            "[None, None, None, None, None, None, None, None, None, None, None, None, None, 2, 1]\n",
            "pop\n",
            "2\n",
            "[None, None, None, None, None, None, None, None, None, None, None, None, None, 2, 1]\n",
            "pop\n",
            "-1\n",
            "[None, None, None, None, None, None, None, None, None, None, None, None, None, 2, 1]\n",
            "size\n",
            "0\n",
            "[None, None, None, None, None, None, None, None, None, None, None, None, None, 2, 1]\n",
            "empty\n",
            "1\n",
            "[None, None, None, None, None, None, None, None, None, None, None, None, None, 2, 1]\n",
            "pop\n",
            "-1\n",
            "[None, None, None, None, None, None, None, None, None, None, None, None, None, 2, 1]\n",
            "push 3\n",
            "[None, None, None, None, None, None, None, None, None, None, None, None, 3, 2, 1]\n",
            "empty\n",
            "0\n",
            "[None, None, None, None, None, None, None, None, None, None, None, None, 3, 2, 1]\n",
            "front\n",
            "3\n",
            "[None, None, None, None, None, None, None, None, None, None, None, None, 3, 2, 1]\n"
          ],
          "name": "stdout"
        }
      ]
    },
    {
      "cell_type": "code",
      "metadata": {
        "colab": {
          "base_uri": "https://localhost:8080/"
        },
        "id": "Tw45Kl0rkaRA",
        "outputId": "cadbf4a6-c5ac-4d36-9f8a-13b1c1b4a59f"
      },
      "source": [
        "#백준 #ACM호텔\n",
        "times = int(input())\n",
        "\n",
        "for _ in range(times):\n",
        "  H,W,N = map(int,input().split())\n",
        "\n",
        "  if N%H==0:\n",
        "    print((H*100) + (N//H))\n",
        "  else:\n",
        "    print((N%H*100) + (N//H)+1)"
      ],
      "execution_count": null,
      "outputs": [
        {
          "output_type": "stream",
          "text": [
            "1\n",
            "6 6 7\n",
            "102\n"
          ],
          "name": "stdout"
        }
      ]
    },
    {
      "cell_type": "code",
      "metadata": {
        "colab": {
          "base_uri": "https://localhost:8080/"
        },
        "id": "7Pi64FJc9-eU",
        "outputId": "bbc085bc-6bb5-49e6-d04e-13095ab6c40a"
      },
      "source": [
        "#프로그래머스 #실패율 #시간초과\n",
        "import operator\n",
        "\n",
        "def solution(N, stages):\n",
        "  answer = {}\n",
        "  \n",
        "  for stage in range(1,N+1):\n",
        "\n",
        "    not_clear = list(filter(lambda x: x <= stage ,stages)) # 클리어 하지 못한 사람\n",
        "    arrive = list(filter(lambda x : x >= stage,stages )) # 스테이지 도착한 사람\n",
        "\n",
        "    try :answer[stage] = len(not_clear) / len(arrive) #실패율구하기\n",
        "    except: answer[stage] = 0\n",
        "\n",
        "    print('클리어 하지 못한 사람',not_clear)\n",
        "    print('스테이지에 도달한 사람',arrive)\n",
        "\n",
        "    stages = [ x for x in stages if x not in not_clear ] #리스트 빼기\n",
        "    \n",
        "    result = sorted(answer.items(), key=operator.itemgetter(1),reverse=True) # 스테이지별 실패율 정렬\n",
        "\n",
        "  return [x[0] for x in result] # 정렬값의 key 반환\n",
        "\n",
        "    \n",
        "\n",
        "solution(5,[2, 1, 2, 6, 2, 4, 3, 3])"
      ],
      "execution_count": null,
      "outputs": [
        {
          "output_type": "stream",
          "text": [
            "클리어 하지 못한 사람 [1]\n",
            "스테이지에 도달한 사람 [2, 1, 2, 6, 2, 4, 3, 3]\n",
            "클리어 하지 못한 사람 [2, 2, 2]\n",
            "스테이지에 도달한 사람 [2, 2, 6, 2, 4, 3, 3]\n",
            "클리어 하지 못한 사람 [3, 3]\n",
            "스테이지에 도달한 사람 [6, 4, 3, 3]\n",
            "클리어 하지 못한 사람 [4]\n",
            "스테이지에 도달한 사람 [6, 4]\n",
            "클리어 하지 못한 사람 []\n",
            "스테이지에 도달한 사람 [6]\n"
          ],
          "name": "stdout"
        },
        {
          "output_type": "execute_result",
          "data": {
            "text/plain": [
              "[3, 4, 2, 1, 5]"
            ]
          },
          "metadata": {
            "tags": []
          },
          "execution_count": 14
        }
      ]
    },
    {
      "cell_type": "code",
      "metadata": {
        "colab": {
          "base_uri": "https://localhost:8080/"
        },
        "id": "iaNxMspKLDZc",
        "outputId": "873dc606-9c8d-4f0e-a35d-4f3b141f6c62"
      },
      "source": [
        "#프로그래머스 #실패율\n",
        "import operator\n",
        "\n",
        "def solution(N, stages):\n",
        "  answer = {}\n",
        "  \n",
        "  for stage in range(1,N+1):\n",
        "\n",
        "    not_clear = 0\n",
        "    arrive = 0\n",
        "\n",
        "    for value in stages:\n",
        "      if (stage-1) < value <= stage:\n",
        "        not_clear += 1\n",
        "      if value >= stage:\n",
        "        arrive += 1\n",
        "\n",
        "    try :answer[stage] = not_clear / arrive #실패율구하기\n",
        "    except: answer[stage] = 0\n",
        "    \n",
        "    # 스테이지별 실패율 정렬 방법\n",
        "    #result = sorted(answer.items(), key=operator.itemgetter(1),reverse=True) \n",
        "    result = sorted(answer, key= lambda x:answer[x],reverse = True)\n",
        "    #result = sorted(answer, key= answer.get,reverse= True)\n",
        "\n",
        "  return result # 정렬값의 key 반환\n",
        "\n",
        "\n",
        "solution(5,[2, 1, 2, 6, 2, 4, 3, 3])"
      ],
      "execution_count": 1,
      "outputs": [
        {
          "output_type": "execute_result",
          "data": {
            "text/plain": [
              "[3, 4, 2, 1, 5]"
            ]
          },
          "metadata": {
            "tags": []
          },
          "execution_count": 1
        }
      ]
    },
    {
      "cell_type": "code",
      "metadata": {
        "colab": {
          "base_uri": "https://localhost:8080/"
        },
        "id": "2WrEWEKrgwuY",
        "outputId": "c4d18b13-f0f8-490d-a497-afe5081d680e"
      },
      "source": [
        "#백준 #2775 #부녀회장\n",
        "\n",
        "def address(floors, number):\n",
        "  apt = []\n",
        "\n",
        "  for floor in range(floors+1):\n",
        "    floor_array = []\n",
        "    A = 1\n",
        "\n",
        "    for num in range(1,number+1):\n",
        "      if floor == 0:\n",
        "        floor_array.append(num)\n",
        "      else:\n",
        "        floor_array.append(A)\n",
        "        try:A += apt[floor-1][num]\n",
        "        except: pass\n",
        "    \n",
        "    apt.append(floor_array)  \n",
        "\n",
        "  print( apt[floors][number-1] )\n",
        "\n",
        "\n",
        "times = int(input())\n",
        "\n",
        "for _ in range(times):\n",
        "  floor = int(input())\n",
        "  number = int(input())\n",
        "\n",
        "  address(floor,number)"
      ],
      "execution_count": null,
      "outputs": [
        {
          "output_type": "stream",
          "text": [
            "2\n",
            "1\n",
            "3\n",
            "6\n",
            "2\n",
            "3\n",
            "10\n"
          ],
          "name": "stdout"
        }
      ]
    },
    {
      "cell_type": "code",
      "metadata": {
        "colab": {
          "base_uri": "https://localhost:8080/"
        },
        "id": "0VOPPpN6sD-G",
        "outputId": "37528423-608d-4154-9f83-76b2d71dd56e"
      },
      "source": [
        "#백준 #2775 #부녀회장이 되고싶어\n",
        "\n",
        "def address(floors, number):\n",
        "\n",
        "  for floor in range(0,floors+1):\n",
        "\n",
        "    #0층 일때 배열 생성\n",
        "    if floor==0:  \n",
        "      f_array = [i for i in range(1, number+1)]\n",
        "      print(f_array)\n",
        "    #1 ~ N층 까지\n",
        "    else:\n",
        "      for num in range(1,number):\n",
        "        f_array[num] = f_array[num-1] + f_array[num]\n",
        "        print(f_array)\n",
        "\n",
        "  print(f_array[number-1])\n",
        "\n",
        "#---------------------------------------------\n",
        "times = int(input())\n",
        "\n",
        "for _ in range(times):\n",
        "  floor = int(input())\n",
        "  number = int(input())\n",
        "  address(floor,number)"
      ],
      "execution_count": null,
      "outputs": [
        {
          "output_type": "stream",
          "text": [
            "1\n",
            "2\n",
            "4\n",
            "[1, 2, 3, 4]\n",
            "[1, 3, 3, 4]\n",
            "[1, 3, 6, 4]\n",
            "[1, 3, 6, 10]\n",
            "[1, 4, 6, 10]\n",
            "[1, 4, 10, 10]\n",
            "[1, 4, 10, 20]\n",
            "20\n"
          ],
          "name": "stdout"
        }
      ]
    }
  ]
}